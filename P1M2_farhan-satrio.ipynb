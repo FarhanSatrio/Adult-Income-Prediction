{
 "cells": [
  {
   "cell_type": "markdown",
   "metadata": {},
   "source": [
    "# Introduction"
   ]
  },
  {
   "cell_type": "markdown",
   "metadata": {},
   "source": [
    "### Nama: Farhan Satrio Yudanto\n",
    "### Class: RMT-023\n",
    "### Objective: Perusahaan XYZ merupakan perusahaan pemasok tenaga kerja, oleh karena itu perusahaan membutuhkan model machine learning untuk memprediksi kemungkinan seseorang mendapatkan income, perusahaan akan lebih untung jika berhasil menyalurkan orang dengan gaji diatas 50k dollar. Dalam pemodelan ini menggunakan 5 algoritma yaitu KNN, SVM, Decision Tree, Random Forest, AdaBoosting dan scaler yang di gunakan untuk pemodelan ini adalah MinMaxScaler, adapun tujuan akhir dari pemodelan ini adalah bisa memprediksi income yang akan didapatkan seseorang dengan meminimalisir nilai False Positive\n",
    "\n",
    "### LinkDeployment: https://huggingface.co/spaces/FarhanStr/milestone2\n",
    "================================"
   ]
  },
  {
   "cell_type": "markdown",
   "metadata": {},
   "source": [
    "# Import Libraries"
   ]
  },
  {
   "cell_type": "code",
   "execution_count": 1,
   "metadata": {},
   "outputs": [],
   "source": [
    "from scipy.stats import pointbiserialr\n",
    "import pandas as pd\n",
    "import matplotlib.pyplot as plt\n",
    "import numpy as np\n",
    "import seaborn as sns\n",
    "from sklearn.feature_selection import SelectKBest,chi2\n",
    "from sklearn.pipeline import Pipeline\n",
    "from sklearn.compose import ColumnTransformer\n",
    "from sklearn.tree import DecisionTreeClassifier\n",
    "from sklearn.ensemble import RandomForestClassifier, AdaBoostClassifier\n",
    "from sklearn.linear_model import LogisticRegression\n",
    "from sklearn.neighbors import KNeighborsClassifier\n",
    "from sklearn.svm import SVC\n",
    "from sklearn.preprocessing import OneHotEncoder, LabelEncoder\n",
    "from sklearn.model_selection import train_test_split\n",
    "from sklearn.preprocessing import MinMaxScaler\n",
    "from sklearn.metrics import accuracy_score, precision_score, recall_score, f1_score\n",
    "from sklearn.model_selection import cross_val_score, KFold\n",
    "from sklearn.metrics import make_scorer\n",
    "from sklearn.model_selection import GridSearchCV\n",
    "from sklearn.metrics import classification_report\n",
    "from sklearn.metrics import ConfusionMatrixDisplay,confusion_matrix\n",
    "import warnings\n",
    "import pickle\n",
    "import json\n",
    "import joblib\n",
    "import re"
   ]
  },
  {
   "cell_type": "code",
   "execution_count": 2,
   "metadata": {},
   "outputs": [],
   "source": [
    "warnings.filterwarnings(\"ignore\")"
   ]
  },
  {
   "cell_type": "markdown",
   "metadata": {},
   "source": [
    "# Data Loading"
   ]
  },
  {
   "cell_type": "code",
   "execution_count": 3,
   "metadata": {},
   "outputs": [],
   "source": [
    "# Loading data frame CSV\n",
    "data = pd.read_csv(\"adult.csv\")"
   ]
  },
  {
   "cell_type": "code",
   "execution_count": 4,
   "metadata": {},
   "outputs": [
    {
     "data": {
      "text/html": [
       "<div>\n",
       "<style scoped>\n",
       "    .dataframe tbody tr th:only-of-type {\n",
       "        vertical-align: middle;\n",
       "    }\n",
       "\n",
       "    .dataframe tbody tr th {\n",
       "        vertical-align: top;\n",
       "    }\n",
       "\n",
       "    .dataframe thead th {\n",
       "        text-align: right;\n",
       "    }\n",
       "</style>\n",
       "<table border=\"1\" class=\"dataframe\">\n",
       "  <thead>\n",
       "    <tr style=\"text-align: right;\">\n",
       "      <th></th>\n",
       "      <th>age</th>\n",
       "      <th>workclass</th>\n",
       "      <th>fnlwgt</th>\n",
       "      <th>education</th>\n",
       "      <th>educational-num</th>\n",
       "      <th>marital-status</th>\n",
       "      <th>occupation</th>\n",
       "      <th>relationship</th>\n",
       "      <th>race</th>\n",
       "      <th>gender</th>\n",
       "      <th>capital-gain</th>\n",
       "      <th>capital-loss</th>\n",
       "      <th>hours-per-week</th>\n",
       "      <th>native-country</th>\n",
       "      <th>income</th>\n",
       "    </tr>\n",
       "  </thead>\n",
       "  <tbody>\n",
       "    <tr>\n",
       "      <th>0</th>\n",
       "      <td>25</td>\n",
       "      <td>Private</td>\n",
       "      <td>226802</td>\n",
       "      <td>11th</td>\n",
       "      <td>7</td>\n",
       "      <td>Never-married</td>\n",
       "      <td>Machine-op-inspct</td>\n",
       "      <td>Own-child</td>\n",
       "      <td>Black</td>\n",
       "      <td>Male</td>\n",
       "      <td>0</td>\n",
       "      <td>0</td>\n",
       "      <td>40</td>\n",
       "      <td>United-States</td>\n",
       "      <td>&lt;=50K</td>\n",
       "    </tr>\n",
       "    <tr>\n",
       "      <th>1</th>\n",
       "      <td>38</td>\n",
       "      <td>Private</td>\n",
       "      <td>89814</td>\n",
       "      <td>HS-grad</td>\n",
       "      <td>9</td>\n",
       "      <td>Married-civ-spouse</td>\n",
       "      <td>Farming-fishing</td>\n",
       "      <td>Husband</td>\n",
       "      <td>White</td>\n",
       "      <td>Male</td>\n",
       "      <td>0</td>\n",
       "      <td>0</td>\n",
       "      <td>50</td>\n",
       "      <td>United-States</td>\n",
       "      <td>&lt;=50K</td>\n",
       "    </tr>\n",
       "    <tr>\n",
       "      <th>2</th>\n",
       "      <td>28</td>\n",
       "      <td>Local-gov</td>\n",
       "      <td>336951</td>\n",
       "      <td>Assoc-acdm</td>\n",
       "      <td>12</td>\n",
       "      <td>Married-civ-spouse</td>\n",
       "      <td>Protective-serv</td>\n",
       "      <td>Husband</td>\n",
       "      <td>White</td>\n",
       "      <td>Male</td>\n",
       "      <td>0</td>\n",
       "      <td>0</td>\n",
       "      <td>40</td>\n",
       "      <td>United-States</td>\n",
       "      <td>&gt;50K</td>\n",
       "    </tr>\n",
       "    <tr>\n",
       "      <th>3</th>\n",
       "      <td>44</td>\n",
       "      <td>Private</td>\n",
       "      <td>160323</td>\n",
       "      <td>Some-college</td>\n",
       "      <td>10</td>\n",
       "      <td>Married-civ-spouse</td>\n",
       "      <td>Machine-op-inspct</td>\n",
       "      <td>Husband</td>\n",
       "      <td>Black</td>\n",
       "      <td>Male</td>\n",
       "      <td>7688</td>\n",
       "      <td>0</td>\n",
       "      <td>40</td>\n",
       "      <td>United-States</td>\n",
       "      <td>&gt;50K</td>\n",
       "    </tr>\n",
       "    <tr>\n",
       "      <th>4</th>\n",
       "      <td>18</td>\n",
       "      <td>?</td>\n",
       "      <td>103497</td>\n",
       "      <td>Some-college</td>\n",
       "      <td>10</td>\n",
       "      <td>Never-married</td>\n",
       "      <td>?</td>\n",
       "      <td>Own-child</td>\n",
       "      <td>White</td>\n",
       "      <td>Female</td>\n",
       "      <td>0</td>\n",
       "      <td>0</td>\n",
       "      <td>30</td>\n",
       "      <td>United-States</td>\n",
       "      <td>&lt;=50K</td>\n",
       "    </tr>\n",
       "    <tr>\n",
       "      <th>5</th>\n",
       "      <td>34</td>\n",
       "      <td>Private</td>\n",
       "      <td>198693</td>\n",
       "      <td>10th</td>\n",
       "      <td>6</td>\n",
       "      <td>Never-married</td>\n",
       "      <td>Other-service</td>\n",
       "      <td>Not-in-family</td>\n",
       "      <td>White</td>\n",
       "      <td>Male</td>\n",
       "      <td>0</td>\n",
       "      <td>0</td>\n",
       "      <td>30</td>\n",
       "      <td>United-States</td>\n",
       "      <td>&lt;=50K</td>\n",
       "    </tr>\n",
       "    <tr>\n",
       "      <th>6</th>\n",
       "      <td>29</td>\n",
       "      <td>?</td>\n",
       "      <td>227026</td>\n",
       "      <td>HS-grad</td>\n",
       "      <td>9</td>\n",
       "      <td>Never-married</td>\n",
       "      <td>?</td>\n",
       "      <td>Unmarried</td>\n",
       "      <td>Black</td>\n",
       "      <td>Male</td>\n",
       "      <td>0</td>\n",
       "      <td>0</td>\n",
       "      <td>40</td>\n",
       "      <td>United-States</td>\n",
       "      <td>&lt;=50K</td>\n",
       "    </tr>\n",
       "    <tr>\n",
       "      <th>7</th>\n",
       "      <td>63</td>\n",
       "      <td>Self-emp-not-inc</td>\n",
       "      <td>104626</td>\n",
       "      <td>Prof-school</td>\n",
       "      <td>15</td>\n",
       "      <td>Married-civ-spouse</td>\n",
       "      <td>Prof-specialty</td>\n",
       "      <td>Husband</td>\n",
       "      <td>White</td>\n",
       "      <td>Male</td>\n",
       "      <td>3103</td>\n",
       "      <td>0</td>\n",
       "      <td>32</td>\n",
       "      <td>United-States</td>\n",
       "      <td>&gt;50K</td>\n",
       "    </tr>\n",
       "    <tr>\n",
       "      <th>8</th>\n",
       "      <td>24</td>\n",
       "      <td>Private</td>\n",
       "      <td>369667</td>\n",
       "      <td>Some-college</td>\n",
       "      <td>10</td>\n",
       "      <td>Never-married</td>\n",
       "      <td>Other-service</td>\n",
       "      <td>Unmarried</td>\n",
       "      <td>White</td>\n",
       "      <td>Female</td>\n",
       "      <td>0</td>\n",
       "      <td>0</td>\n",
       "      <td>40</td>\n",
       "      <td>United-States</td>\n",
       "      <td>&lt;=50K</td>\n",
       "    </tr>\n",
       "    <tr>\n",
       "      <th>9</th>\n",
       "      <td>55</td>\n",
       "      <td>Private</td>\n",
       "      <td>104996</td>\n",
       "      <td>7th-8th</td>\n",
       "      <td>4</td>\n",
       "      <td>Married-civ-spouse</td>\n",
       "      <td>Craft-repair</td>\n",
       "      <td>Husband</td>\n",
       "      <td>White</td>\n",
       "      <td>Male</td>\n",
       "      <td>0</td>\n",
       "      <td>0</td>\n",
       "      <td>10</td>\n",
       "      <td>United-States</td>\n",
       "      <td>&lt;=50K</td>\n",
       "    </tr>\n",
       "  </tbody>\n",
       "</table>\n",
       "</div>"
      ],
      "text/plain": [
       "   age         workclass  fnlwgt     education  educational-num  \\\n",
       "0   25           Private  226802          11th                7   \n",
       "1   38           Private   89814       HS-grad                9   \n",
       "2   28         Local-gov  336951    Assoc-acdm               12   \n",
       "3   44           Private  160323  Some-college               10   \n",
       "4   18                 ?  103497  Some-college               10   \n",
       "5   34           Private  198693          10th                6   \n",
       "6   29                 ?  227026       HS-grad                9   \n",
       "7   63  Self-emp-not-inc  104626   Prof-school               15   \n",
       "8   24           Private  369667  Some-college               10   \n",
       "9   55           Private  104996       7th-8th                4   \n",
       "\n",
       "       marital-status         occupation   relationship   race  gender  \\\n",
       "0       Never-married  Machine-op-inspct      Own-child  Black    Male   \n",
       "1  Married-civ-spouse    Farming-fishing        Husband  White    Male   \n",
       "2  Married-civ-spouse    Protective-serv        Husband  White    Male   \n",
       "3  Married-civ-spouse  Machine-op-inspct        Husband  Black    Male   \n",
       "4       Never-married                  ?      Own-child  White  Female   \n",
       "5       Never-married      Other-service  Not-in-family  White    Male   \n",
       "6       Never-married                  ?      Unmarried  Black    Male   \n",
       "7  Married-civ-spouse     Prof-specialty        Husband  White    Male   \n",
       "8       Never-married      Other-service      Unmarried  White  Female   \n",
       "9  Married-civ-spouse       Craft-repair        Husband  White    Male   \n",
       "\n",
       "   capital-gain  capital-loss  hours-per-week native-country income  \n",
       "0             0             0              40  United-States  <=50K  \n",
       "1             0             0              50  United-States  <=50K  \n",
       "2             0             0              40  United-States   >50K  \n",
       "3          7688             0              40  United-States   >50K  \n",
       "4             0             0              30  United-States  <=50K  \n",
       "5             0             0              30  United-States  <=50K  \n",
       "6             0             0              40  United-States  <=50K  \n",
       "7          3103             0              32  United-States   >50K  \n",
       "8             0             0              40  United-States  <=50K  \n",
       "9             0             0              10  United-States  <=50K  "
      ]
     },
     "execution_count": 4,
     "metadata": {},
     "output_type": "execute_result"
    }
   ],
   "source": [
    "data.head(10)"
   ]
  },
  {
   "cell_type": "code",
   "execution_count": 5,
   "metadata": {},
   "outputs": [
    {
     "data": {
      "text/html": [
       "<div>\n",
       "<style scoped>\n",
       "    .dataframe tbody tr th:only-of-type {\n",
       "        vertical-align: middle;\n",
       "    }\n",
       "\n",
       "    .dataframe tbody tr th {\n",
       "        vertical-align: top;\n",
       "    }\n",
       "\n",
       "    .dataframe thead th {\n",
       "        text-align: right;\n",
       "    }\n",
       "</style>\n",
       "<table border=\"1\" class=\"dataframe\">\n",
       "  <thead>\n",
       "    <tr style=\"text-align: right;\">\n",
       "      <th></th>\n",
       "      <th>age</th>\n",
       "      <th>workclass</th>\n",
       "      <th>fnlwgt</th>\n",
       "      <th>education</th>\n",
       "      <th>educational-num</th>\n",
       "      <th>marital-status</th>\n",
       "      <th>occupation</th>\n",
       "      <th>relationship</th>\n",
       "      <th>race</th>\n",
       "      <th>gender</th>\n",
       "      <th>capital-gain</th>\n",
       "      <th>capital-loss</th>\n",
       "      <th>hours-per-week</th>\n",
       "      <th>native-country</th>\n",
       "      <th>income</th>\n",
       "    </tr>\n",
       "  </thead>\n",
       "  <tbody>\n",
       "    <tr>\n",
       "      <th>48832</th>\n",
       "      <td>32</td>\n",
       "      <td>Private</td>\n",
       "      <td>34066</td>\n",
       "      <td>10th</td>\n",
       "      <td>6</td>\n",
       "      <td>Married-civ-spouse</td>\n",
       "      <td>Handlers-cleaners</td>\n",
       "      <td>Husband</td>\n",
       "      <td>Amer-Indian-Eskimo</td>\n",
       "      <td>Male</td>\n",
       "      <td>0</td>\n",
       "      <td>0</td>\n",
       "      <td>40</td>\n",
       "      <td>United-States</td>\n",
       "      <td>&lt;=50K</td>\n",
       "    </tr>\n",
       "    <tr>\n",
       "      <th>48833</th>\n",
       "      <td>43</td>\n",
       "      <td>Private</td>\n",
       "      <td>84661</td>\n",
       "      <td>Assoc-voc</td>\n",
       "      <td>11</td>\n",
       "      <td>Married-civ-spouse</td>\n",
       "      <td>Sales</td>\n",
       "      <td>Husband</td>\n",
       "      <td>White</td>\n",
       "      <td>Male</td>\n",
       "      <td>0</td>\n",
       "      <td>0</td>\n",
       "      <td>45</td>\n",
       "      <td>United-States</td>\n",
       "      <td>&lt;=50K</td>\n",
       "    </tr>\n",
       "    <tr>\n",
       "      <th>48834</th>\n",
       "      <td>32</td>\n",
       "      <td>Private</td>\n",
       "      <td>116138</td>\n",
       "      <td>Masters</td>\n",
       "      <td>14</td>\n",
       "      <td>Never-married</td>\n",
       "      <td>Tech-support</td>\n",
       "      <td>Not-in-family</td>\n",
       "      <td>Asian-Pac-Islander</td>\n",
       "      <td>Male</td>\n",
       "      <td>0</td>\n",
       "      <td>0</td>\n",
       "      <td>11</td>\n",
       "      <td>Taiwan</td>\n",
       "      <td>&lt;=50K</td>\n",
       "    </tr>\n",
       "    <tr>\n",
       "      <th>48835</th>\n",
       "      <td>53</td>\n",
       "      <td>Private</td>\n",
       "      <td>321865</td>\n",
       "      <td>Masters</td>\n",
       "      <td>14</td>\n",
       "      <td>Married-civ-spouse</td>\n",
       "      <td>Exec-managerial</td>\n",
       "      <td>Husband</td>\n",
       "      <td>White</td>\n",
       "      <td>Male</td>\n",
       "      <td>0</td>\n",
       "      <td>0</td>\n",
       "      <td>40</td>\n",
       "      <td>United-States</td>\n",
       "      <td>&gt;50K</td>\n",
       "    </tr>\n",
       "    <tr>\n",
       "      <th>48836</th>\n",
       "      <td>22</td>\n",
       "      <td>Private</td>\n",
       "      <td>310152</td>\n",
       "      <td>Some-college</td>\n",
       "      <td>10</td>\n",
       "      <td>Never-married</td>\n",
       "      <td>Protective-serv</td>\n",
       "      <td>Not-in-family</td>\n",
       "      <td>White</td>\n",
       "      <td>Male</td>\n",
       "      <td>0</td>\n",
       "      <td>0</td>\n",
       "      <td>40</td>\n",
       "      <td>United-States</td>\n",
       "      <td>&lt;=50K</td>\n",
       "    </tr>\n",
       "    <tr>\n",
       "      <th>48837</th>\n",
       "      <td>27</td>\n",
       "      <td>Private</td>\n",
       "      <td>257302</td>\n",
       "      <td>Assoc-acdm</td>\n",
       "      <td>12</td>\n",
       "      <td>Married-civ-spouse</td>\n",
       "      <td>Tech-support</td>\n",
       "      <td>Wife</td>\n",
       "      <td>White</td>\n",
       "      <td>Female</td>\n",
       "      <td>0</td>\n",
       "      <td>0</td>\n",
       "      <td>38</td>\n",
       "      <td>United-States</td>\n",
       "      <td>&lt;=50K</td>\n",
       "    </tr>\n",
       "    <tr>\n",
       "      <th>48838</th>\n",
       "      <td>40</td>\n",
       "      <td>Private</td>\n",
       "      <td>154374</td>\n",
       "      <td>HS-grad</td>\n",
       "      <td>9</td>\n",
       "      <td>Married-civ-spouse</td>\n",
       "      <td>Machine-op-inspct</td>\n",
       "      <td>Husband</td>\n",
       "      <td>White</td>\n",
       "      <td>Male</td>\n",
       "      <td>0</td>\n",
       "      <td>0</td>\n",
       "      <td>40</td>\n",
       "      <td>United-States</td>\n",
       "      <td>&gt;50K</td>\n",
       "    </tr>\n",
       "    <tr>\n",
       "      <th>48839</th>\n",
       "      <td>58</td>\n",
       "      <td>Private</td>\n",
       "      <td>151910</td>\n",
       "      <td>HS-grad</td>\n",
       "      <td>9</td>\n",
       "      <td>Widowed</td>\n",
       "      <td>Adm-clerical</td>\n",
       "      <td>Unmarried</td>\n",
       "      <td>White</td>\n",
       "      <td>Female</td>\n",
       "      <td>0</td>\n",
       "      <td>0</td>\n",
       "      <td>40</td>\n",
       "      <td>United-States</td>\n",
       "      <td>&lt;=50K</td>\n",
       "    </tr>\n",
       "    <tr>\n",
       "      <th>48840</th>\n",
       "      <td>22</td>\n",
       "      <td>Private</td>\n",
       "      <td>201490</td>\n",
       "      <td>HS-grad</td>\n",
       "      <td>9</td>\n",
       "      <td>Never-married</td>\n",
       "      <td>Adm-clerical</td>\n",
       "      <td>Own-child</td>\n",
       "      <td>White</td>\n",
       "      <td>Male</td>\n",
       "      <td>0</td>\n",
       "      <td>0</td>\n",
       "      <td>20</td>\n",
       "      <td>United-States</td>\n",
       "      <td>&lt;=50K</td>\n",
       "    </tr>\n",
       "    <tr>\n",
       "      <th>48841</th>\n",
       "      <td>52</td>\n",
       "      <td>Self-emp-inc</td>\n",
       "      <td>287927</td>\n",
       "      <td>HS-grad</td>\n",
       "      <td>9</td>\n",
       "      <td>Married-civ-spouse</td>\n",
       "      <td>Exec-managerial</td>\n",
       "      <td>Wife</td>\n",
       "      <td>White</td>\n",
       "      <td>Female</td>\n",
       "      <td>15024</td>\n",
       "      <td>0</td>\n",
       "      <td>40</td>\n",
       "      <td>United-States</td>\n",
       "      <td>&gt;50K</td>\n",
       "    </tr>\n",
       "  </tbody>\n",
       "</table>\n",
       "</div>"
      ],
      "text/plain": [
       "       age     workclass  fnlwgt     education  educational-num  \\\n",
       "48832   32       Private   34066          10th                6   \n",
       "48833   43       Private   84661     Assoc-voc               11   \n",
       "48834   32       Private  116138       Masters               14   \n",
       "48835   53       Private  321865       Masters               14   \n",
       "48836   22       Private  310152  Some-college               10   \n",
       "48837   27       Private  257302    Assoc-acdm               12   \n",
       "48838   40       Private  154374       HS-grad                9   \n",
       "48839   58       Private  151910       HS-grad                9   \n",
       "48840   22       Private  201490       HS-grad                9   \n",
       "48841   52  Self-emp-inc  287927       HS-grad                9   \n",
       "\n",
       "           marital-status         occupation   relationship  \\\n",
       "48832  Married-civ-spouse  Handlers-cleaners        Husband   \n",
       "48833  Married-civ-spouse              Sales        Husband   \n",
       "48834       Never-married       Tech-support  Not-in-family   \n",
       "48835  Married-civ-spouse    Exec-managerial        Husband   \n",
       "48836       Never-married    Protective-serv  Not-in-family   \n",
       "48837  Married-civ-spouse       Tech-support           Wife   \n",
       "48838  Married-civ-spouse  Machine-op-inspct        Husband   \n",
       "48839             Widowed       Adm-clerical      Unmarried   \n",
       "48840       Never-married       Adm-clerical      Own-child   \n",
       "48841  Married-civ-spouse    Exec-managerial           Wife   \n",
       "\n",
       "                     race  gender  capital-gain  capital-loss  hours-per-week  \\\n",
       "48832  Amer-Indian-Eskimo    Male             0             0              40   \n",
       "48833               White    Male             0             0              45   \n",
       "48834  Asian-Pac-Islander    Male             0             0              11   \n",
       "48835               White    Male             0             0              40   \n",
       "48836               White    Male             0             0              40   \n",
       "48837               White  Female             0             0              38   \n",
       "48838               White    Male             0             0              40   \n",
       "48839               White  Female             0             0              40   \n",
       "48840               White    Male             0             0              20   \n",
       "48841               White  Female         15024             0              40   \n",
       "\n",
       "      native-country income  \n",
       "48832  United-States  <=50K  \n",
       "48833  United-States  <=50K  \n",
       "48834         Taiwan  <=50K  \n",
       "48835  United-States   >50K  \n",
       "48836  United-States  <=50K  \n",
       "48837  United-States  <=50K  \n",
       "48838  United-States   >50K  \n",
       "48839  United-States  <=50K  \n",
       "48840  United-States  <=50K  \n",
       "48841  United-States   >50K  "
      ]
     },
     "execution_count": 5,
     "metadata": {},
     "output_type": "execute_result"
    }
   ],
   "source": [
    "data.tail(10)"
   ]
  },
  {
   "cell_type": "markdown",
   "metadata": {},
   "source": [
    "# EDA"
   ]
  },
  {
   "cell_type": "code",
   "execution_count": 6,
   "metadata": {},
   "outputs": [
    {
     "name": "stdout",
     "output_type": "stream",
     "text": [
      "Cardinality (Jumlah Nilai Unik) dalam Setiap Kolom:\n",
      "age                   74\n",
      "workclass              9\n",
      "fnlwgt             28523\n",
      "education             16\n",
      "educational-num       16\n",
      "marital-status         7\n",
      "occupation            15\n",
      "relationship           6\n",
      "race                   5\n",
      "gender                 2\n",
      "capital-gain         123\n",
      "capital-loss          99\n",
      "hours-per-week        96\n",
      "native-country        42\n",
      "income                 2\n",
      "dtype: int64\n"
     ]
    }
   ],
   "source": [
    "# Mengecek cardinality\n",
    "cardinality_info = data.nunique()\n",
    "\n",
    "# Menampilkan informasi cardinality\n",
    "print(\"Cardinality (Jumlah Nilai Unik) dalam Setiap Kolom:\")\n",
    "print(cardinality_info)"
   ]
  },
  {
   "cell_type": "code",
   "execution_count": 7,
   "metadata": {},
   "outputs": [
    {
     "name": "stdout",
     "output_type": "stream",
     "text": [
      "Jumlah Duplikat Data: 52\n",
      "\n",
      "Baris Duplikat:\n",
      "       age         workclass  fnlwgt     education  educational-num  \\\n",
      "864     24           Private  194630     Bachelors               13   \n",
      "11189   37           Private   52870     Bachelors               13   \n",
      "11212   29           Private   36440     Bachelors               13   \n",
      "13848   30           Private  180317     Assoc-voc               11   \n",
      "15960   18      Self-emp-inc  378036          12th                8   \n",
      "18476   39           Private  184659       HS-grad                9   \n",
      "19399   19           Private  130431       5th-6th                3   \n",
      "19726   41           Private  116391     Bachelors               13   \n",
      "20606   25           Private  308144     Bachelors               13   \n",
      "21162   25           Private  308144     Bachelors               13   \n",
      "21385   90           Private   52386  Some-college               10   \n",
      "24361   21           Private  243368     Preschool                1   \n",
      "25189   29                 ?   41281     Bachelors               13   \n",
      "25452   21           Private  250051  Some-college               10   \n",
      "25652   23           Private  239539       HS-grad                9   \n",
      "26122   21           Private  301694       HS-grad                9   \n",
      "26375   19                 ?  167428  Some-college               10   \n",
      "27912   20           Private  107658  Some-college               10   \n",
      "29365   25           Private  195994       1st-4th                2   \n",
      "30862   31           Private  228873       HS-grad                9   \n",
      "30971   19           Private  318822       HS-grad                9   \n",
      "31340   21           Private  243368     Preschool                1   \n",
      "33321   46           Private  173243       HS-grad                9   \n",
      "34148   45           Private   82797     Bachelors               13   \n",
      "34836   30           Private  144593       HS-grad                9   \n",
      "34979   19           Private   97261       HS-grad                9   \n",
      "35848   47           Private  199058  Some-college               10   \n",
      "36767   43           Private  195258       HS-grad                9   \n",
      "36848   22           Private  137876  Some-college               10   \n",
      "37599   19           Private  138153  Some-college               10   \n",
      "37771   19           Private  146679  Some-college               10   \n",
      "38156   49           Private   31267       7th-8th                4   \n",
      "38255   30           Private  111567       HS-grad                9   \n",
      "38530   19           Private  139466  Some-college               10   \n",
      "38581   25           Private  195994       1st-4th                2   \n",
      "38648   44           Private  367749     Bachelors               13   \n",
      "38775   49  Self-emp-not-inc   43479  Some-college               10   \n",
      "40948   17           Private  153021          12th                8   \n",
      "41965   25           Private  112835     Bachelors               13   \n",
      "42153   23           Private  240137       5th-6th                3   \n",
      "42594   28           Private  274679       Masters               14   \n",
      "44201   23           Private  107882     Bachelors               13   \n",
      "44511   27           Private  255582       HS-grad                9   \n",
      "44803   42           Private  204235  Some-college               10   \n",
      "45127   39           Private   30916       HS-grad                9   \n",
      "45438   38           Private  207202       HS-grad                9   \n",
      "46626   23           Private  250630     Bachelors               13   \n",
      "46665   20                 ?  203353  Some-college               10   \n",
      "46979   22                 ?  334593  Some-college               10   \n",
      "47126   46           Private  133616  Some-college               10   \n",
      "48274   19           Private  251579  Some-college               10   \n",
      "48685   35           Private  379959       HS-grad                9   \n",
      "\n",
      "              marital-status         occupation   relationship  \\\n",
      "864            Never-married     Prof-specialty  Not-in-family   \n",
      "11189     Married-civ-spouse    Exec-managerial        Husband   \n",
      "11212          Never-married       Adm-clerical  Not-in-family   \n",
      "13848               Divorced  Machine-op-inspct  Not-in-family   \n",
      "15960          Never-married    Farming-fishing      Own-child   \n",
      "18476     Married-civ-spouse  Machine-op-inspct        Husband   \n",
      "19399          Never-married    Farming-fishing  Not-in-family   \n",
      "19726     Married-civ-spouse    Exec-managerial        Husband   \n",
      "20606          Never-married       Craft-repair  Not-in-family   \n",
      "21162          Never-married       Craft-repair  Not-in-family   \n",
      "21385          Never-married      Other-service  Not-in-family   \n",
      "24361          Never-married    Farming-fishing  Not-in-family   \n",
      "25189  Married-spouse-absent                  ?  Not-in-family   \n",
      "25452          Never-married     Prof-specialty      Own-child   \n",
      "25652          Never-married  Machine-op-inspct      Own-child   \n",
      "26122          Never-married       Craft-repair  Not-in-family   \n",
      "26375          Never-married                  ?      Own-child   \n",
      "27912          Never-married       Tech-support  Not-in-family   \n",
      "29365          Never-married    Priv-house-serv  Not-in-family   \n",
      "30862     Married-civ-spouse       Craft-repair        Husband   \n",
      "30971          Never-married       Adm-clerical  Not-in-family   \n",
      "31340          Never-married    Farming-fishing  Not-in-family   \n",
      "33321     Married-civ-spouse       Craft-repair        Husband   \n",
      "34148     Married-civ-spouse    Exec-managerial        Husband   \n",
      "34836          Never-married      Other-service  Not-in-family   \n",
      "34979          Never-married    Farming-fishing  Not-in-family   \n",
      "35848     Married-civ-spouse     Prof-specialty        Husband   \n",
      "36767     Married-civ-spouse       Craft-repair        Husband   \n",
      "36848          Never-married    Protective-serv  Not-in-family   \n",
      "37599          Never-married       Adm-clerical      Own-child   \n",
      "37771          Never-married    Exec-managerial      Own-child   \n",
      "38156     Married-civ-spouse       Craft-repair        Husband   \n",
      "38255          Never-married       Craft-repair      Own-child   \n",
      "38530          Never-married              Sales      Own-child   \n",
      "38581          Never-married    Priv-house-serv  Not-in-family   \n",
      "38648          Never-married     Prof-specialty  Not-in-family   \n",
      "38775     Married-civ-spouse       Craft-repair        Husband   \n",
      "40948          Never-married              Sales      Own-child   \n",
      "41965          Never-married     Prof-specialty  Not-in-family   \n",
      "42153          Never-married  Handlers-cleaners  Not-in-family   \n",
      "42594          Never-married     Prof-specialty  Not-in-family   \n",
      "44201          Never-married       Adm-clerical      Own-child   \n",
      "44511          Never-married  Machine-op-inspct  Not-in-family   \n",
      "44803     Married-civ-spouse     Prof-specialty        Husband   \n",
      "45127     Married-civ-spouse       Craft-repair        Husband   \n",
      "45438     Married-civ-spouse  Machine-op-inspct        Husband   \n",
      "46626          Never-married              Sales  Not-in-family   \n",
      "46665          Never-married                  ?      Own-child   \n",
      "46979          Never-married                  ?  Not-in-family   \n",
      "47126               Divorced       Adm-clerical      Unmarried   \n",
      "48274          Never-married      Other-service      Own-child   \n",
      "48685               Divorced      Other-service  Not-in-family   \n",
      "\n",
      "                     race  gender  capital-gain  capital-loss  hours-per-week  \\\n",
      "864                 White    Male             0             0              35   \n",
      "11189               White    Male             0             0              40   \n",
      "11212               White  Female             0             0              40   \n",
      "13848               White    Male             0             0              40   \n",
      "15960               White    Male             0             0              10   \n",
      "18476               White    Male             0             0              40   \n",
      "19399               White    Male             0             0              36   \n",
      "19726               White    Male             0             0              40   \n",
      "20606               White    Male             0             0              40   \n",
      "21162               White    Male             0             0              40   \n",
      "21385  Asian-Pac-Islander    Male             0             0              35   \n",
      "24361               White    Male             0             0              50   \n",
      "25189               White    Male             0             0              50   \n",
      "25452               White  Female             0             0              10   \n",
      "25652  Asian-Pac-Islander    Male             0             0              40   \n",
      "26122               White    Male             0             0              35   \n",
      "26375               White    Male             0             0              40   \n",
      "27912               White  Female             0             0              10   \n",
      "29365               White  Female             0             0              40   \n",
      "30862               White    Male             0             0              40   \n",
      "30971               White  Female             0             0              40   \n",
      "31340               White    Male             0             0              50   \n",
      "33321               White    Male             0             0              40   \n",
      "34148               White    Male             0             0              45   \n",
      "34836               Black    Male             0             0              40   \n",
      "34979               White    Male             0             0              40   \n",
      "35848               White    Male             0             0              40   \n",
      "36767               White    Male             0             0              40   \n",
      "36848               White    Male             0             0              20   \n",
      "37599               White  Female             0             0              10   \n",
      "37771               Black    Male             0             0              30   \n",
      "38156               White    Male             0             0              40   \n",
      "38255               White    Male             0             0              48   \n",
      "38530               White  Female             0             0              25   \n",
      "38581               White  Female             0             0              40   \n",
      "38648               White  Female             0             0              45   \n",
      "38775               White    Male             0             0              40   \n",
      "40948               White  Female             0             0              20   \n",
      "41965               White    Male             0             0              40   \n",
      "42153               White    Male             0             0              55   \n",
      "42594               White    Male             0             0              50   \n",
      "44201               White  Female             0             0              40   \n",
      "44511               White  Female             0             0              40   \n",
      "44803               White    Male             0             0              40   \n",
      "45127               White    Male             0             0              40   \n",
      "45438               White    Male             0             0              48   \n",
      "46626               White  Female             0             0              40   \n",
      "46665               White  Female             0             0              40   \n",
      "46979               White    Male             0             0              40   \n",
      "47126               White  Female             0             0              40   \n",
      "48274               White    Male             0             0              14   \n",
      "48685               White  Female             0             0              40   \n",
      "\n",
      "      native-country income  \n",
      "864    United-States  <=50K  \n",
      "11189  United-States  <=50K  \n",
      "11212  United-States  <=50K  \n",
      "13848  United-States  <=50K  \n",
      "15960  United-States  <=50K  \n",
      "18476  United-States  <=50K  \n",
      "19399         Mexico  <=50K  \n",
      "19726  United-States   >50K  \n",
      "20606         Mexico  <=50K  \n",
      "21162         Mexico  <=50K  \n",
      "21385  United-States  <=50K  \n",
      "24361         Mexico  <=50K  \n",
      "25189  United-States  <=50K  \n",
      "25452  United-States  <=50K  \n",
      "25652    Philippines  <=50K  \n",
      "26122         Mexico  <=50K  \n",
      "26375  United-States  <=50K  \n",
      "27912  United-States  <=50K  \n",
      "29365      Guatemala  <=50K  \n",
      "30862  United-States  <=50K  \n",
      "30971  United-States  <=50K  \n",
      "31340         Mexico  <=50K  \n",
      "33321  United-States  <=50K  \n",
      "34148  United-States   >50K  \n",
      "34836              ?  <=50K  \n",
      "34979  United-States  <=50K  \n",
      "35848  United-States   >50K  \n",
      "36767  United-States   >50K  \n",
      "36848  United-States  <=50K  \n",
      "37599  United-States  <=50K  \n",
      "37771  United-States  <=50K  \n",
      "38156  United-States  <=50K  \n",
      "38255  United-States  <=50K  \n",
      "38530  United-States  <=50K  \n",
      "38581      Guatemala  <=50K  \n",
      "38648         Mexico  <=50K  \n",
      "38775  United-States  <=50K  \n",
      "40948  United-States  <=50K  \n",
      "41965  United-States  <=50K  \n",
      "42153         Mexico  <=50K  \n",
      "42594  United-States  <=50K  \n",
      "44201  United-States  <=50K  \n",
      "44511  United-States  <=50K  \n",
      "44803  United-States   >50K  \n",
      "45127  United-States  <=50K  \n",
      "45438  United-States   >50K  \n",
      "46626  United-States  <=50K  \n",
      "46665  United-States  <=50K  \n",
      "46979  United-States  <=50K  \n",
      "47126  United-States  <=50K  \n",
      "48274  United-States  <=50K  \n",
      "48685  United-States  <=50K  \n"
     ]
    }
   ],
   "source": [
    "# Pengecekan duplikat data\n",
    "duplicate_rows = data[data.duplicated()]\n",
    "\n",
    "# Menampilkan baris duplikat\n",
    "print(\"Jumlah Duplikat Data:\", duplicate_rows.shape[0])\n",
    "print(\"\\nBaris Duplikat:\")\n",
    "print(duplicate_rows)"
   ]
  },
  {
   "cell_type": "code",
   "execution_count": 8,
   "metadata": {},
   "outputs": [],
   "source": [
    "# Menghapus data yang duplicat\n",
    "data.drop_duplicates(inplace=True)"
   ]
  },
  {
   "cell_type": "code",
   "execution_count": 9,
   "metadata": {},
   "outputs": [
    {
     "data": {
      "text/plain": [
       "age                0\n",
       "workclass          0\n",
       "fnlwgt             0\n",
       "education          0\n",
       "educational-num    0\n",
       "marital-status     0\n",
       "occupation         0\n",
       "relationship       0\n",
       "race               0\n",
       "gender             0\n",
       "capital-gain       0\n",
       "capital-loss       0\n",
       "hours-per-week     0\n",
       "native-country     0\n",
       "income             0\n",
       "dtype: int64"
      ]
     },
     "execution_count": 9,
     "metadata": {},
     "output_type": "execute_result"
    }
   ],
   "source": [
    "# Mengecek apakah ada data yang null\n",
    "data.isnull().sum()"
   ]
  },
  {
   "cell_type": "code",
   "execution_count": 10,
   "metadata": {},
   "outputs": [
    {
     "data": {
      "text/plain": [
       "age                   0\n",
       "workclass          2795\n",
       "fnlwgt                0\n",
       "education             0\n",
       "educational-num       0\n",
       "marital-status        0\n",
       "occupation         2805\n",
       "relationship          0\n",
       "race                  0\n",
       "gender                0\n",
       "capital-gain          0\n",
       "capital-loss          0\n",
       "hours-per-week        0\n",
       "native-country      856\n",
       "income                0\n",
       "dtype: int64"
      ]
     },
     "execution_count": 10,
     "metadata": {},
     "output_type": "execute_result"
    }
   ],
   "source": [
    "# Mencari tahu terkait nama ?\n",
    "data.isin(['?']).sum()"
   ]
  },
  {
   "cell_type": "code",
   "execution_count": 11,
   "metadata": {},
   "outputs": [],
   "source": [
    "# Mengubah ? menjadi null untuk mempermudah pemoresan data\n",
    "data.replace('?',np.NaN,inplace =True)"
   ]
  },
  {
   "cell_type": "code",
   "execution_count": 12,
   "metadata": {},
   "outputs": [
    {
     "data": {
      "text/plain": [
       "age                   0\n",
       "workclass          2795\n",
       "fnlwgt                0\n",
       "education             0\n",
       "educational-num       0\n",
       "marital-status        0\n",
       "occupation         2805\n",
       "relationship          0\n",
       "race                  0\n",
       "gender                0\n",
       "capital-gain          0\n",
       "capital-loss          0\n",
       "hours-per-week        0\n",
       "native-country      856\n",
       "income                0\n",
       "dtype: int64"
      ]
     },
     "execution_count": 12,
     "metadata": {},
     "output_type": "execute_result"
    }
   ],
   "source": [
    "# Mengecek apakah ada data yang null\n",
    "data.isnull().sum()"
   ]
  },
  {
   "cell_type": "code",
   "execution_count": 13,
   "metadata": {},
   "outputs": [],
   "source": [
    "# Drop data yang kosong\n",
    "data.dropna(how='any',inplace=True)"
   ]
  },
  {
   "cell_type": "code",
   "execution_count": 14,
   "metadata": {},
   "outputs": [],
   "source": [
    "# Mendrop kolom fnlwgt, Education dan Race\n",
    "data = data.drop(['fnlwgt', 'education', 'race'], axis=1)"
   ]
  },
  {
   "cell_type": "markdown",
   "metadata": {},
   "source": [
    "drop fnlwgt karena hanya berisi bobot survey dan tidak penting, untuk education karena sudah ada colom lain yang memiliki fungsi yang sama. Sedangkan race di hapus karena berhubungan dengan sara, agar perusahaan tidak memandang calon rekruternya berdasarkan ras"
   ]
  },
  {
   "cell_type": "code",
   "execution_count": 15,
   "metadata": {},
   "outputs": [],
   "source": [
    "num_col = data.select_dtypes(include=np.number).columns.tolist()\n",
    "cat_nom_col = ['workclass', 'marital-status', 'occupation', 'relationship', 'native-country', 'gender']\n"
   ]
  },
  {
   "cell_type": "code",
   "execution_count": 50,
   "metadata": {},
   "outputs": [
    {
     "data": {
      "text/html": [
       "<div>\n",
       "<style scoped>\n",
       "    .dataframe tbody tr th:only-of-type {\n",
       "        vertical-align: middle;\n",
       "    }\n",
       "\n",
       "    .dataframe tbody tr th {\n",
       "        vertical-align: top;\n",
       "    }\n",
       "\n",
       "    .dataframe thead th {\n",
       "        text-align: right;\n",
       "    }\n",
       "</style>\n",
       "<table border=\"1\" class=\"dataframe\">\n",
       "  <thead>\n",
       "    <tr style=\"text-align: right;\">\n",
       "      <th></th>\n",
       "      <th>age</th>\n",
       "      <th>workclass</th>\n",
       "      <th>educational-num</th>\n",
       "      <th>marital-status</th>\n",
       "      <th>occupation</th>\n",
       "      <th>relationship</th>\n",
       "      <th>gender</th>\n",
       "      <th>capital-gain</th>\n",
       "      <th>capital-loss</th>\n",
       "      <th>hours-per-week</th>\n",
       "      <th>native-country</th>\n",
       "      <th>income</th>\n",
       "    </tr>\n",
       "  </thead>\n",
       "  <tbody>\n",
       "    <tr>\n",
       "      <th>0</th>\n",
       "      <td>25</td>\n",
       "      <td>Private</td>\n",
       "      <td>7</td>\n",
       "      <td>Never-married</td>\n",
       "      <td>Machine-op-inspct</td>\n",
       "      <td>Own-child</td>\n",
       "      <td>Male</td>\n",
       "      <td>0</td>\n",
       "      <td>0</td>\n",
       "      <td>40</td>\n",
       "      <td>United-States</td>\n",
       "      <td>&lt;=50K</td>\n",
       "    </tr>\n",
       "    <tr>\n",
       "      <th>1</th>\n",
       "      <td>38</td>\n",
       "      <td>Private</td>\n",
       "      <td>9</td>\n",
       "      <td>Married-civ-spouse</td>\n",
       "      <td>Farming-fishing</td>\n",
       "      <td>Husband</td>\n",
       "      <td>Male</td>\n",
       "      <td>0</td>\n",
       "      <td>0</td>\n",
       "      <td>50</td>\n",
       "      <td>United-States</td>\n",
       "      <td>&lt;=50K</td>\n",
       "    </tr>\n",
       "    <tr>\n",
       "      <th>2</th>\n",
       "      <td>28</td>\n",
       "      <td>Local-gov</td>\n",
       "      <td>12</td>\n",
       "      <td>Married-civ-spouse</td>\n",
       "      <td>Protective-serv</td>\n",
       "      <td>Husband</td>\n",
       "      <td>Male</td>\n",
       "      <td>0</td>\n",
       "      <td>0</td>\n",
       "      <td>40</td>\n",
       "      <td>United-States</td>\n",
       "      <td>&gt;50K</td>\n",
       "    </tr>\n",
       "    <tr>\n",
       "      <th>3</th>\n",
       "      <td>44</td>\n",
       "      <td>Private</td>\n",
       "      <td>10</td>\n",
       "      <td>Married-civ-spouse</td>\n",
       "      <td>Machine-op-inspct</td>\n",
       "      <td>Husband</td>\n",
       "      <td>Male</td>\n",
       "      <td>7688</td>\n",
       "      <td>0</td>\n",
       "      <td>40</td>\n",
       "      <td>United-States</td>\n",
       "      <td>&gt;50K</td>\n",
       "    </tr>\n",
       "    <tr>\n",
       "      <th>5</th>\n",
       "      <td>34</td>\n",
       "      <td>Private</td>\n",
       "      <td>6</td>\n",
       "      <td>Never-married</td>\n",
       "      <td>Other-service</td>\n",
       "      <td>Not-in-family</td>\n",
       "      <td>Male</td>\n",
       "      <td>0</td>\n",
       "      <td>0</td>\n",
       "      <td>30</td>\n",
       "      <td>United-States</td>\n",
       "      <td>&lt;=50K</td>\n",
       "    </tr>\n",
       "    <tr>\n",
       "      <th>...</th>\n",
       "      <td>...</td>\n",
       "      <td>...</td>\n",
       "      <td>...</td>\n",
       "      <td>...</td>\n",
       "      <td>...</td>\n",
       "      <td>...</td>\n",
       "      <td>...</td>\n",
       "      <td>...</td>\n",
       "      <td>...</td>\n",
       "      <td>...</td>\n",
       "      <td>...</td>\n",
       "      <td>...</td>\n",
       "    </tr>\n",
       "    <tr>\n",
       "      <th>48837</th>\n",
       "      <td>27</td>\n",
       "      <td>Private</td>\n",
       "      <td>12</td>\n",
       "      <td>Married-civ-spouse</td>\n",
       "      <td>Tech-support</td>\n",
       "      <td>Wife</td>\n",
       "      <td>Female</td>\n",
       "      <td>0</td>\n",
       "      <td>0</td>\n",
       "      <td>38</td>\n",
       "      <td>United-States</td>\n",
       "      <td>&lt;=50K</td>\n",
       "    </tr>\n",
       "    <tr>\n",
       "      <th>48838</th>\n",
       "      <td>40</td>\n",
       "      <td>Private</td>\n",
       "      <td>9</td>\n",
       "      <td>Married-civ-spouse</td>\n",
       "      <td>Machine-op-inspct</td>\n",
       "      <td>Husband</td>\n",
       "      <td>Male</td>\n",
       "      <td>0</td>\n",
       "      <td>0</td>\n",
       "      <td>40</td>\n",
       "      <td>United-States</td>\n",
       "      <td>&gt;50K</td>\n",
       "    </tr>\n",
       "    <tr>\n",
       "      <th>48839</th>\n",
       "      <td>58</td>\n",
       "      <td>Private</td>\n",
       "      <td>9</td>\n",
       "      <td>Widowed</td>\n",
       "      <td>Adm-clerical</td>\n",
       "      <td>Unmarried</td>\n",
       "      <td>Female</td>\n",
       "      <td>0</td>\n",
       "      <td>0</td>\n",
       "      <td>40</td>\n",
       "      <td>United-States</td>\n",
       "      <td>&lt;=50K</td>\n",
       "    </tr>\n",
       "    <tr>\n",
       "      <th>48840</th>\n",
       "      <td>22</td>\n",
       "      <td>Private</td>\n",
       "      <td>9</td>\n",
       "      <td>Never-married</td>\n",
       "      <td>Adm-clerical</td>\n",
       "      <td>Own-child</td>\n",
       "      <td>Male</td>\n",
       "      <td>0</td>\n",
       "      <td>0</td>\n",
       "      <td>20</td>\n",
       "      <td>United-States</td>\n",
       "      <td>&lt;=50K</td>\n",
       "    </tr>\n",
       "    <tr>\n",
       "      <th>48841</th>\n",
       "      <td>52</td>\n",
       "      <td>Self-emp-inc</td>\n",
       "      <td>9</td>\n",
       "      <td>Married-civ-spouse</td>\n",
       "      <td>Exec-managerial</td>\n",
       "      <td>Wife</td>\n",
       "      <td>Female</td>\n",
       "      <td>15024</td>\n",
       "      <td>0</td>\n",
       "      <td>40</td>\n",
       "      <td>United-States</td>\n",
       "      <td>&gt;50K</td>\n",
       "    </tr>\n",
       "  </tbody>\n",
       "</table>\n",
       "<p>45175 rows × 12 columns</p>\n",
       "</div>"
      ],
      "text/plain": [
       "       age     workclass  educational-num      marital-status  \\\n",
       "0       25       Private                7       Never-married   \n",
       "1       38       Private                9  Married-civ-spouse   \n",
       "2       28     Local-gov               12  Married-civ-spouse   \n",
       "3       44       Private               10  Married-civ-spouse   \n",
       "5       34       Private                6       Never-married   \n",
       "...    ...           ...              ...                 ...   \n",
       "48837   27       Private               12  Married-civ-spouse   \n",
       "48838   40       Private                9  Married-civ-spouse   \n",
       "48839   58       Private                9             Widowed   \n",
       "48840   22       Private                9       Never-married   \n",
       "48841   52  Self-emp-inc                9  Married-civ-spouse   \n",
       "\n",
       "              occupation   relationship  gender  capital-gain  capital-loss  \\\n",
       "0      Machine-op-inspct      Own-child    Male             0             0   \n",
       "1        Farming-fishing        Husband    Male             0             0   \n",
       "2        Protective-serv        Husband    Male             0             0   \n",
       "3      Machine-op-inspct        Husband    Male          7688             0   \n",
       "5          Other-service  Not-in-family    Male             0             0   \n",
       "...                  ...            ...     ...           ...           ...   \n",
       "48837       Tech-support           Wife  Female             0             0   \n",
       "48838  Machine-op-inspct        Husband    Male             0             0   \n",
       "48839       Adm-clerical      Unmarried  Female             0             0   \n",
       "48840       Adm-clerical      Own-child    Male             0             0   \n",
       "48841    Exec-managerial           Wife  Female         15024             0   \n",
       "\n",
       "       hours-per-week native-country income  \n",
       "0                  40  United-States  <=50K  \n",
       "1                  50  United-States  <=50K  \n",
       "2                  40  United-States   >50K  \n",
       "3                  40  United-States   >50K  \n",
       "5                  30  United-States  <=50K  \n",
       "...               ...            ...    ...  \n",
       "48837              38  United-States  <=50K  \n",
       "48838              40  United-States   >50K  \n",
       "48839              40  United-States  <=50K  \n",
       "48840              20  United-States  <=50K  \n",
       "48841              40  United-States   >50K  \n",
       "\n",
       "[45175 rows x 12 columns]"
      ]
     },
     "execution_count": 50,
     "metadata": {},
     "output_type": "execute_result"
    }
   ],
   "source": [
    "data"
   ]
  },
  {
   "cell_type": "code",
   "execution_count": 56,
   "metadata": {},
   "outputs": [
    {
     "data": {
      "image/png": "[encoded data removed]",
      "text/plain": [
       "<Figure size 1500x600 with 1 Axes>"
      ]
     },
     "metadata": {},
     "output_type": "display_data"
    }
   ],
   "source": [
    "plt.figure(figsize=(15, 6))\n",
    "sns.barplot(x='marital-status', y='hours-per-week', data=data, ci=None)  \n",
    "plt.title('Rata-Rata Hours per Week berdasarkan Marital Status')\n",
    "plt.xlabel('Marital Status')\n",
    "plt.ylabel('Rata-Rata Hours per Week')\n",
    "plt.show()"
   ]
  },
  {
   "cell_type": "markdown",
   "metadata": {},
   "source": [
    "Terdapat keunikan pada data ini dimana orang yang telah menikah memiliki rata-rata hours-per-week yang paling tinggi dan orang yang telah di tinggalkan memiliki jumlah kerja yang lebih sedikit. Asumsi saya hal itu dipengaruhi oleh umur mari kita buktikan di bawah"
   ]
  },
  {
   "cell_type": "code",
   "execution_count": 57,
   "metadata": {},
   "outputs": [
    {
     "data": {
      "image/png": "[encoded data removed]",
      "text/plain": [
       "<Figure size 1500x600 with 1 Axes>"
      ]
     },
     "metadata": {},
     "output_type": "display_data"
    }
   ],
   "source": [
    "plt.figure(figsize=(15, 6))\n",
    "sns.barplot(x='marital-status', y='age', data=data, ci=None)  \n",
    "plt.title('Rata-Rata age berdasarkan Marital Status')\n",
    "plt.xlabel('Marital Status')\n",
    "plt.ylabel('Rata-Rata age')\n",
    "plt.show()"
   ]
  },
  {
   "cell_type": "markdown",
   "metadata": {},
   "source": [
    "Asumsi saya pada plot sebelum nya benar bahwa orang dengan marital status widowed memiliki umur yang tinggi juga, dan sekarang kita mencari tahu apakah umur mempengaruhi jam kerja?"
   ]
  },
  {
   "cell_type": "code",
   "execution_count": 59,
   "metadata": {},
   "outputs": [
    {
     "data": {
      "image/png": "[encoded data removed]",
      "text/plain": [
       "<Figure size 1600x600 with 1 Axes>"
      ]
     },
     "metadata": {},
     "output_type": "display_data"
    }
   ],
   "source": [
    "plt.figure(figsize=(16, 6))\n",
    "sns.barplot(x='age', y='hours-per-week', data=data, ci=None)  \n",
    "plt.title('Rata-Rata age berdasarkan Marital Status')\n",
    "plt.xlabel('Marital Status')\n",
    "plt.ylabel('Rata-Rata age')\n",
    "plt.show()"
   ]
  },
  {
   "cell_type": "markdown",
   "metadata": {},
   "source": [
    "masa paling produktif terkait jam kerja dalam satu minggu ada di rentan umur 26-59, berarti hal ini menjawab mengapa orang yang widowed memiliki jam kerja paling sedikit dan orang yang menikah resmi memiliki jam kerja yang paling panjang, karena mayoritas orang yang menikah resmi ada di umur produktif sedangkan orang yang widowed sudah lewat masa produktifnya"
   ]
  },
  {
   "cell_type": "code",
   "execution_count": 60,
   "metadata": {},
   "outputs": [
    {
     "data": {
      "text/plain": [
       "Text(0, 0.5, 'Jumlah income')"
      ]
     },
     "execution_count": 60,
     "metadata": {},
     "output_type": "execute_result"
    },
    {
     "data": {
      "image/png": "[encoded data removed]",
      "text/plain": [
       "<Figure size 1000x800 with 1 Axes>"
      ]
     },
     "metadata": {},
     "output_type": "display_data"
    }
   ],
   "source": [
    "plt.figure(figsize=(10,8))\n",
    "sns.barplot(x=data['income'].values, y=data['income'].index, palette='viridis')\n",
    "plt.title(\"Persebaran Income pada Dataset\")\n",
    "plt.xlabel(\"Income\")\n",
    "plt.ylabel(\"Jumlah income\")"
   ]
  },
  {
   "cell_type": "code",
   "execution_count": 61,
   "metadata": {},
   "outputs": [
    {
     "data": {
      "image/png": "[encoded data removed]",
      "text/plain": [
       "<Figure size 800x600 with 1 Axes>"
      ]
     },
     "metadata": {},
     "output_type": "display_data"
    }
   ],
   "source": [
    "plt.figure(figsize=(8, 6))\n",
    "sns.countplot(x='gender', hue='income', data=data)\n",
    "plt.title('Sebaran Gaji Berdasarkan Gender')\n",
    "plt.xlabel('Gender')\n",
    "plt.ylabel('Jumlah')\n",
    "plt.show()"
   ]
  },
  {
   "cell_type": "markdown",
   "metadata": {},
   "source": [
    "dari total gaji terlihat kedua gender memiliki mayoritas penghasilan di bawah/samadengan 50k tetapi jika di bandingkan antara laki-laki dengan perempuan, laki-laki memiliki jumlah orang dengan pendapatan di atas 50k lebih tinggi dibandingkan dengan perempuan"
   ]
  },
  {
   "cell_type": "code",
   "execution_count": 62,
   "metadata": {},
   "outputs": [
    {
     "data": {
      "image/png": "[encoded data removed]",
      "text/plain": [
       "<Figure size 1600x1200 with 5 Axes>"
      ]
     },
     "metadata": {},
     "output_type": "display_data"
    }
   ],
   "source": [
    "plt.figure(figsize=(16, 12))\n",
    "for i, column in enumerate(num_col, 1):\n",
    "    plt.subplot(5, 4, i)\n",
    "    sns.boxplot(x=data[column], width=0.5, color='blue')\n",
    "    plt.title(column)\n",
    "    plt.xlabel('')\n",
    "\n",
    "plt.tight_layout()\n",
    "plt.show()"
   ]
  },
  {
   "cell_type": "markdown",
   "metadata": {},
   "source": [
    "# Feature Engineering"
   ]
  },
  {
   "cell_type": "markdown",
   "metadata": {},
   "source": [
    "## Feature Selection"
   ]
  },
  {
   "cell_type": "code",
   "execution_count": 17,
   "metadata": {},
   "outputs": [],
   "source": [
    "# Membuat fungsi untuk encoding data frame tertentu\n",
    "def encode(df):\n",
    "    s = (df.dtypes == 'object')\n",
    "    cat_col = list(s[s].index)\n",
    "    for i in cat_col:\n",
    "        lb = LabelEncoder()\n",
    "        df[i] = lb.fit_transform(df[i])\n",
    "    return df"
   ]
  },
  {
   "cell_type": "code",
   "execution_count": 18,
   "metadata": {},
   "outputs": [],
   "source": [
    "# Melakukan pengetesan chi2test agar tidak mengubah data frame utama yang akan digunakan untuk split\n",
    "def chi2test(df,target):\n",
    "    df_income = encode(df)\n",
    "    xl,yl = df_income.drop(target,axis = 1), df_income[target]\n",
    "\n",
    "    bestfeatures = SelectKBest(score_func=chi2, k='all')\n",
    "    dfit = bestfeatures.fit(xl,yl)\n",
    "\n",
    "    df_scores = pd.DataFrame(dfit.scores_)\n",
    "    df_cols = pd.DataFrame(xl.columns)\n",
    "\n",
    "    feature_importance = pd.concat([df_cols, df_scores],axis=1)\n",
    "    feature_importance.columns = ['Feature','Score']\n",
    "    return feature_importance"
   ]
  },
  {
   "cell_type": "code",
   "execution_count": 19,
   "metadata": {},
   "outputs": [
    {
     "data": {
      "text/html": [
       "<div>\n",
       "<style scoped>\n",
       "    .dataframe tbody tr th:only-of-type {\n",
       "        vertical-align: middle;\n",
       "    }\n",
       "\n",
       "    .dataframe tbody tr th {\n",
       "        vertical-align: top;\n",
       "    }\n",
       "\n",
       "    .dataframe thead th {\n",
       "        text-align: right;\n",
       "    }\n",
       "</style>\n",
       "<table border=\"1\" class=\"dataframe\">\n",
       "  <thead>\n",
       "    <tr style=\"text-align: right;\">\n",
       "      <th></th>\n",
       "      <th>Feature</th>\n",
       "      <th>Score</th>\n",
       "    </tr>\n",
       "  </thead>\n",
       "  <tbody>\n",
       "    <tr>\n",
       "      <th>7</th>\n",
       "      <td>capital-gain</td>\n",
       "      <td>1.129415e+08</td>\n",
       "    </tr>\n",
       "    <tr>\n",
       "      <th>8</th>\n",
       "      <td>capital-loss</td>\n",
       "      <td>1.848305e+06</td>\n",
       "    </tr>\n",
       "    <tr>\n",
       "      <th>0</th>\n",
       "      <td>age</td>\n",
       "      <td>1.147775e+04</td>\n",
       "    </tr>\n",
       "    <tr>\n",
       "      <th>9</th>\n",
       "      <td>hours-per-week</td>\n",
       "      <td>8.208195e+03</td>\n",
       "    </tr>\n",
       "    <tr>\n",
       "      <th>5</th>\n",
       "      <td>relationship</td>\n",
       "      <td>5.238539e+03</td>\n",
       "    </tr>\n",
       "    <tr>\n",
       "      <th>2</th>\n",
       "      <td>educational-num</td>\n",
       "      <td>3.222910e+03</td>\n",
       "    </tr>\n",
       "    <tr>\n",
       "      <th>3</th>\n",
       "      <td>marital-status</td>\n",
       "      <td>1.458444e+03</td>\n",
       "    </tr>\n",
       "    <tr>\n",
       "      <th>6</th>\n",
       "      <td>gender</td>\n",
       "      <td>6.832710e+02</td>\n",
       "    </tr>\n",
       "    <tr>\n",
       "      <th>4</th>\n",
       "      <td>occupation</td>\n",
       "      <td>3.036940e+02</td>\n",
       "    </tr>\n",
       "    <tr>\n",
       "      <th>10</th>\n",
       "      <td>native-country</td>\n",
       "      <td>1.807674e+01</td>\n",
       "    </tr>\n",
       "    <tr>\n",
       "      <th>1</th>\n",
       "      <td>workclass</td>\n",
       "      <td>4.607441e+00</td>\n",
       "    </tr>\n",
       "  </tbody>\n",
       "</table>\n",
       "</div>"
      ],
      "text/plain": [
       "            Feature         Score\n",
       "7      capital-gain  1.129415e+08\n",
       "8      capital-loss  1.848305e+06\n",
       "0               age  1.147775e+04\n",
       "9    hours-per-week  8.208195e+03\n",
       "5      relationship  5.238539e+03\n",
       "2   educational-num  3.222910e+03\n",
       "3    marital-status  1.458444e+03\n",
       "6            gender  6.832710e+02\n",
       "4        occupation  3.036940e+02\n",
       "10   native-country  1.807674e+01\n",
       "1         workclass  4.607441e+00"
      ]
     },
     "execution_count": 19,
     "metadata": {},
     "output_type": "execute_result"
    }
   ],
   "source": [
    "# Mengetahui Hubungan kolom kategorikal dengan target yang binary\n",
    "data_copy = data.copy()\n",
    "feature_importance = chi2test(data_copy, 'income')\n",
    "feature_importance.sort_values(by = 'Score',ascending= False)"
   ]
  },
  {
   "cell_type": "markdown",
   "metadata": {},
   "source": [
    "Keberadaan seluruh kolom masih masuk akal untuk di pertahankan dan memiliki sumbangsih terkait prediksi nilai target"
   ]
  },
  {
   "cell_type": "code",
   "execution_count": 20,
   "metadata": {},
   "outputs": [
    {
     "data": {
      "image/png": "[encoded data removed]",
      "text/plain": [
       "<Figure size 1800x800 with 2 Axes>"
      ]
     },
     "metadata": {},
     "output_type": "display_data"
    }
   ],
   "source": [
    "# Cek korelasi antar data\n",
    "plt.figure(figsize=(18,8))\n",
    "sns.heatmap(data[num_col].corr(), annot=True, cmap=\"YlGnBu\")\n",
    "plt.show()"
   ]
  },
  {
   "cell_type": "markdown",
   "metadata": {},
   "source": [
    "## Spliting"
   ]
  },
  {
   "cell_type": "code",
   "execution_count": 21,
   "metadata": {},
   "outputs": [],
   "source": [
    "# Split Dataset\n",
    "X = data.drop(['income'], axis=1)\n",
    "y = data['income']"
   ]
  },
  {
   "cell_type": "code",
   "execution_count": 22,
   "metadata": {},
   "outputs": [],
   "source": [
    "X_train, X_test, y_train, y_test, = train_test_split (X,y, test_size = 0.2, random_state = 10)"
   ]
  },
  {
   "cell_type": "code",
   "execution_count": 23,
   "metadata": {},
   "outputs": [
    {
     "data": {
      "text/html": [
       "<div>\n",
       "<style scoped>\n",
       "    .dataframe tbody tr th:only-of-type {\n",
       "        vertical-align: middle;\n",
       "    }\n",
       "\n",
       "    .dataframe tbody tr th {\n",
       "        vertical-align: top;\n",
       "    }\n",
       "\n",
       "    .dataframe thead th {\n",
       "        text-align: right;\n",
       "    }\n",
       "</style>\n",
       "<table border=\"1\" class=\"dataframe\">\n",
       "  <thead>\n",
       "    <tr style=\"text-align: right;\">\n",
       "      <th></th>\n",
       "      <th>age</th>\n",
       "      <th>workclass</th>\n",
       "      <th>educational-num</th>\n",
       "      <th>marital-status</th>\n",
       "      <th>occupation</th>\n",
       "      <th>relationship</th>\n",
       "      <th>gender</th>\n",
       "      <th>capital-gain</th>\n",
       "      <th>capital-loss</th>\n",
       "      <th>hours-per-week</th>\n",
       "      <th>native-country</th>\n",
       "    </tr>\n",
       "  </thead>\n",
       "  <tbody>\n",
       "    <tr>\n",
       "      <th>23647</th>\n",
       "      <td>19</td>\n",
       "      <td>Private</td>\n",
       "      <td>4</td>\n",
       "      <td>Never-married</td>\n",
       "      <td>Transport-moving</td>\n",
       "      <td>Unmarried</td>\n",
       "      <td>Male</td>\n",
       "      <td>0</td>\n",
       "      <td>0</td>\n",
       "      <td>25</td>\n",
       "      <td>Guatemala</td>\n",
       "    </tr>\n",
       "    <tr>\n",
       "      <th>11266</th>\n",
       "      <td>18</td>\n",
       "      <td>Private</td>\n",
       "      <td>7</td>\n",
       "      <td>Never-married</td>\n",
       "      <td>Priv-house-serv</td>\n",
       "      <td>Own-child</td>\n",
       "      <td>Female</td>\n",
       "      <td>0</td>\n",
       "      <td>0</td>\n",
       "      <td>6</td>\n",
       "      <td>United-States</td>\n",
       "    </tr>\n",
       "    <tr>\n",
       "      <th>949</th>\n",
       "      <td>34</td>\n",
       "      <td>Federal-gov</td>\n",
       "      <td>13</td>\n",
       "      <td>Never-married</td>\n",
       "      <td>Exec-managerial</td>\n",
       "      <td>Not-in-family</td>\n",
       "      <td>Male</td>\n",
       "      <td>0</td>\n",
       "      <td>0</td>\n",
       "      <td>44</td>\n",
       "      <td>United-States</td>\n",
       "    </tr>\n",
       "    <tr>\n",
       "      <th>10372</th>\n",
       "      <td>44</td>\n",
       "      <td>Private</td>\n",
       "      <td>13</td>\n",
       "      <td>Married-civ-spouse</td>\n",
       "      <td>Exec-managerial</td>\n",
       "      <td>Husband</td>\n",
       "      <td>Male</td>\n",
       "      <td>0</td>\n",
       "      <td>0</td>\n",
       "      <td>35</td>\n",
       "      <td>United-States</td>\n",
       "    </tr>\n",
       "    <tr>\n",
       "      <th>23058</th>\n",
       "      <td>29</td>\n",
       "      <td>State-gov</td>\n",
       "      <td>10</td>\n",
       "      <td>Never-married</td>\n",
       "      <td>Other-service</td>\n",
       "      <td>Unmarried</td>\n",
       "      <td>Female</td>\n",
       "      <td>0</td>\n",
       "      <td>0</td>\n",
       "      <td>40</td>\n",
       "      <td>United-States</td>\n",
       "    </tr>\n",
       "    <tr>\n",
       "      <th>...</th>\n",
       "      <td>...</td>\n",
       "      <td>...</td>\n",
       "      <td>...</td>\n",
       "      <td>...</td>\n",
       "      <td>...</td>\n",
       "      <td>...</td>\n",
       "      <td>...</td>\n",
       "      <td>...</td>\n",
       "      <td>...</td>\n",
       "      <td>...</td>\n",
       "      <td>...</td>\n",
       "    </tr>\n",
       "    <tr>\n",
       "      <th>43296</th>\n",
       "      <td>24</td>\n",
       "      <td>Private</td>\n",
       "      <td>13</td>\n",
       "      <td>Married-civ-spouse</td>\n",
       "      <td>Sales</td>\n",
       "      <td>Other-relative</td>\n",
       "      <td>Male</td>\n",
       "      <td>0</td>\n",
       "      <td>0</td>\n",
       "      <td>40</td>\n",
       "      <td>United-States</td>\n",
       "    </tr>\n",
       "    <tr>\n",
       "      <th>30292</th>\n",
       "      <td>38</td>\n",
       "      <td>Private</td>\n",
       "      <td>10</td>\n",
       "      <td>Never-married</td>\n",
       "      <td>Sales</td>\n",
       "      <td>Unmarried</td>\n",
       "      <td>Female</td>\n",
       "      <td>0</td>\n",
       "      <td>0</td>\n",
       "      <td>40</td>\n",
       "      <td>United-States</td>\n",
       "    </tr>\n",
       "    <tr>\n",
       "      <th>31565</th>\n",
       "      <td>59</td>\n",
       "      <td>Local-gov</td>\n",
       "      <td>10</td>\n",
       "      <td>Separated</td>\n",
       "      <td>Protective-serv</td>\n",
       "      <td>Not-in-family</td>\n",
       "      <td>Male</td>\n",
       "      <td>0</td>\n",
       "      <td>0</td>\n",
       "      <td>40</td>\n",
       "      <td>United-States</td>\n",
       "    </tr>\n",
       "    <tr>\n",
       "      <th>43298</th>\n",
       "      <td>51</td>\n",
       "      <td>Private</td>\n",
       "      <td>12</td>\n",
       "      <td>Divorced</td>\n",
       "      <td>Tech-support</td>\n",
       "      <td>Not-in-family</td>\n",
       "      <td>Male</td>\n",
       "      <td>0</td>\n",
       "      <td>0</td>\n",
       "      <td>30</td>\n",
       "      <td>United-States</td>\n",
       "    </tr>\n",
       "    <tr>\n",
       "      <th>19133</th>\n",
       "      <td>54</td>\n",
       "      <td>Self-emp-not-inc</td>\n",
       "      <td>9</td>\n",
       "      <td>Married-civ-spouse</td>\n",
       "      <td>Sales</td>\n",
       "      <td>Wife</td>\n",
       "      <td>Female</td>\n",
       "      <td>0</td>\n",
       "      <td>0</td>\n",
       "      <td>30</td>\n",
       "      <td>United-States</td>\n",
       "    </tr>\n",
       "  </tbody>\n",
       "</table>\n",
       "<p>36140 rows × 11 columns</p>\n",
       "</div>"
      ],
      "text/plain": [
       "       age         workclass  educational-num      marital-status  \\\n",
       "23647   19           Private                4       Never-married   \n",
       "11266   18           Private                7       Never-married   \n",
       "949     34       Federal-gov               13       Never-married   \n",
       "10372   44           Private               13  Married-civ-spouse   \n",
       "23058   29         State-gov               10       Never-married   \n",
       "...    ...               ...              ...                 ...   \n",
       "43296   24           Private               13  Married-civ-spouse   \n",
       "30292   38           Private               10       Never-married   \n",
       "31565   59         Local-gov               10           Separated   \n",
       "43298   51           Private               12            Divorced   \n",
       "19133   54  Self-emp-not-inc                9  Married-civ-spouse   \n",
       "\n",
       "             occupation    relationship  gender  capital-gain  capital-loss  \\\n",
       "23647  Transport-moving       Unmarried    Male             0             0   \n",
       "11266   Priv-house-serv       Own-child  Female             0             0   \n",
       "949     Exec-managerial   Not-in-family    Male             0             0   \n",
       "10372   Exec-managerial         Husband    Male             0             0   \n",
       "23058     Other-service       Unmarried  Female             0             0   \n",
       "...                 ...             ...     ...           ...           ...   \n",
       "43296             Sales  Other-relative    Male             0             0   \n",
       "30292             Sales       Unmarried  Female             0             0   \n",
       "31565   Protective-serv   Not-in-family    Male             0             0   \n",
       "43298      Tech-support   Not-in-family    Male             0             0   \n",
       "19133             Sales            Wife  Female             0             0   \n",
       "\n",
       "       hours-per-week native-country  \n",
       "23647              25      Guatemala  \n",
       "11266               6  United-States  \n",
       "949                44  United-States  \n",
       "10372              35  United-States  \n",
       "23058              40  United-States  \n",
       "...               ...            ...  \n",
       "43296              40  United-States  \n",
       "30292              40  United-States  \n",
       "31565              40  United-States  \n",
       "43298              30  United-States  \n",
       "19133              30  United-States  \n",
       "\n",
       "[36140 rows x 11 columns]"
      ]
     },
     "execution_count": 23,
     "metadata": {},
     "output_type": "execute_result"
    }
   ],
   "source": [
    "X_train"
   ]
  },
  {
   "cell_type": "markdown",
   "metadata": {},
   "source": [
    "## Encoding & Scaling"
   ]
  },
  {
   "cell_type": "code",
   "execution_count": 24,
   "metadata": {},
   "outputs": [],
   "source": [
    "# Create transformers\n",
    "num_transformer = Pipeline(steps=[\n",
    "    ('numscaler', MinMaxScaler())\n",
    "])\n",
    "\n",
    "cat_transformer = Pipeline(steps=[\n",
    "    ('catscaler', OneHotEncoder(handle_unknown='ignore', sparse=False))\n",
    "])\n",
    "\n",
    "# Create ColumnTransformer\n",
    "preprocessor = ColumnTransformer(\n",
    "    transformers=[\n",
    "        ('numerik', num_transformer, num_col),\n",
    "        ('kategorik', cat_transformer, cat_nom_col)\n",
    "    ])"
   ]
  },
  {
   "cell_type": "code",
   "execution_count": 25,
   "metadata": {},
   "outputs": [],
   "source": [
    "y_train = y_train.map({'<=50K': 0, '>50K': 1})\n",
    "y_test = y_test.map({'<=50K': 0, '>50K': 1})"
   ]
  },
  {
   "cell_type": "code",
   "execution_count": 26,
   "metadata": {},
   "outputs": [
    {
     "data": {
      "text/plain": [
       "23647    0\n",
       "11266    0\n",
       "949      0\n",
       "10372    1\n",
       "23058    0\n",
       "        ..\n",
       "43296    0\n",
       "30292    0\n",
       "31565    1\n",
       "43298    0\n",
       "19133    0\n",
       "Name: income, Length: 36140, dtype: int64"
      ]
     },
     "execution_count": 26,
     "metadata": {},
     "output_type": "execute_result"
    }
   ],
   "source": [
    "y_train"
   ]
  },
  {
   "cell_type": "markdown",
   "metadata": {},
   "source": [
    "## Model Definition"
   ]
  },
  {
   "cell_type": "code",
   "execution_count": 27,
   "metadata": {},
   "outputs": [],
   "source": [
    "# Inisialisasi model KNN\n",
    "knn_model = KNeighborsClassifier()\n",
    "\n",
    "# Inisialisasi model SVM\n",
    "svm_model = SVC()\n",
    "\n",
    "# Inisialisasi model Decision Tree\n",
    "dt_model = DecisionTreeClassifier()\n",
    "\n",
    "# Inisialisasi model Random Forest\n",
    "rf_model = RandomForestClassifier()\n",
    "\n",
    "# Inisialisasi model AdaBoost\n",
    "adaboost_model = AdaBoostClassifier()"
   ]
  },
  {
   "cell_type": "code",
   "execution_count": 28,
   "metadata": {},
   "outputs": [],
   "source": [
    "# Buat pipeline untuk KNN\n",
    "pipeline_knn = Pipeline(steps=[\n",
    "    ('preprocessor', preprocessor),\n",
    "    ('classifier', knn_model)\n",
    "])"
   ]
  },
  {
   "cell_type": "code",
   "execution_count": 29,
   "metadata": {},
   "outputs": [
    {
     "name": "stdout",
     "output_type": "stream",
     "text": [
      "--KNN--\n",
      "Cross Validation array           : [0.81543996 0.82055894 0.82927504 0.82664638 0.82678473]\n",
      "Best Cross Validation score      : 0.8237410071942446\n",
      "Standar Deviasi Cross Validation : 0.005047057495670998\n"
     ]
    }
   ],
   "source": [
    "kf=KFold(n_splits=5)\n",
    "scoresknn = cross_val_score(pipeline_knn, X_train, y_train, cv=kf)\n",
    "print(\"--KNN--\")\n",
    "print(\"Cross Validation array           :\",scoresknn)\n",
    "print(\"Best Cross Validation score      :\",scoresknn.mean())\n",
    "print(\"Standar Deviasi Cross Validation :\",scoresknn.std())"
   ]
  },
  {
   "cell_type": "code",
   "execution_count": 30,
   "metadata": {},
   "outputs": [],
   "source": [
    "# Buat pipeline untuk SVM\n",
    "pipeline_svm = Pipeline(steps=[\n",
    "    ('preprocessor', preprocessor),\n",
    "    ('classifier', svm_model)\n",
    "])"
   ]
  },
  {
   "cell_type": "code",
   "execution_count": 31,
   "metadata": {},
   "outputs": [
    {
     "name": "stdout",
     "output_type": "stream",
     "text": [
      "--Support Vector Machine--\n",
      "Cross Validation array           : [0.82899834 0.83494743 0.83674599 0.83646929 0.83757609]\n",
      "Mean Cross Validation score      : 0.8349474266740454\n",
      "Standar Deviasi Cross Validation : 0.003093619227310151\n"
     ]
    }
   ],
   "source": [
    "kf=KFold(n_splits=5)\n",
    "scoressvm = cross_val_score(pipeline_svm, X_train, y_train, cv=kf)\n",
    "print(\"--Support Vector Machine--\")\n",
    "print(\"Cross Validation array           :\",scoressvm)\n",
    "print(\"Mean Cross Validation score      :\",scoressvm.mean())\n",
    "print(\"Standar Deviasi Cross Validation :\",scoressvm.std())"
   ]
  },
  {
   "cell_type": "code",
   "execution_count": 32,
   "metadata": {},
   "outputs": [],
   "source": [
    "# Buat pipeline untuk Decision Tree\n",
    "pipeline_dt = Pipeline(steps=[\n",
    "    ('preprocessor', preprocessor),\n",
    "    ('classifier', dt_model)\n",
    "])\n"
   ]
  },
  {
   "cell_type": "code",
   "execution_count": 33,
   "metadata": {},
   "outputs": [
    {
     "name": "stdout",
     "output_type": "stream",
     "text": [
      "--Decision Tree--\n",
      "Cross Validation array           : [0.80866076 0.81710017 0.81516325 0.8229109  0.81184283]\n",
      "Mean Cross Validation score      : 0.8151355838406198\n",
      "Standar Deviasi Cross Validation : 0.004839037573591389\n"
     ]
    }
   ],
   "source": [
    "scoresdt = cross_val_score(pipeline_dt, X_train, y_train, cv=kf)\n",
    "print(\"--Decision Tree--\")\n",
    "print(\"Cross Validation array           :\",scoresdt)\n",
    "print(\"Mean Cross Validation score      :\",scoresdt.mean())\n",
    "print(\"Standar Deviasi Cross Validation :\",scoresdt.std())"
   ]
  },
  {
   "cell_type": "code",
   "execution_count": 34,
   "metadata": {},
   "outputs": [],
   "source": [
    "# Buat pipeline untuk Random Forest\n",
    "pipeline_rf = Pipeline(steps=[\n",
    "    ('preprocessor', preprocessor),\n",
    "    ('classifier', rf_model)\n",
    "])"
   ]
  },
  {
   "cell_type": "code",
   "execution_count": 35,
   "metadata": {},
   "outputs": [
    {
     "name": "stdout",
     "output_type": "stream",
     "text": [
      "--Random Forrest--\n",
      "Cross Validation array           : [0.83467072 0.84214167 0.84463199 0.8471223  0.84200332]\n",
      "Mean Cross Validation score      : 0.8421140011068069\n",
      "Standar Deviasi Cross Validation : 0.004167462216616347\n"
     ]
    }
   ],
   "source": [
    "scoresrf = cross_val_score(pipeline_rf, X_train, y_train, cv=kf)\n",
    "print(\"--Random Forrest--\")\n",
    "print(\"Cross Validation array           :\",scoresrf)\n",
    "print(\"Mean Cross Validation score      :\",scoresrf.mean())\n",
    "print(\"Standar Deviasi Cross Validation :\",scoresrf.std())"
   ]
  },
  {
   "cell_type": "code",
   "execution_count": 36,
   "metadata": {},
   "outputs": [],
   "source": [
    "# Buat pipeline untuk AdaBoost\n",
    "pipeline_adaboost = Pipeline(steps=[\n",
    "    ('preprocessor', preprocessor),\n",
    "    ('classifier', adaboost_model)\n",
    "])"
   ]
  },
  {
   "cell_type": "code",
   "execution_count": 37,
   "metadata": {},
   "outputs": [
    {
     "name": "stdout",
     "output_type": "stream",
     "text": [
      "--AdaBoost--\n",
      "Cross Validation array           : [0.84836746 0.85196458 0.85680686 0.85971223 0.85666851]\n",
      "Mean Cross Validation score      : 0.8547039291643609\n",
      "Standar Deviasi Cross Validation : 0.004025415626766644\n"
     ]
    }
   ],
   "source": [
    "scoresada = cross_val_score(pipeline_adaboost, X_train, y_train, cv=kf)\n",
    "print(\"--AdaBoost--\")\n",
    "print(\"Cross Validation array           :\",scoresada)\n",
    "print(\"Mean Cross Validation score      :\",scoresada.mean())\n",
    "print(\"Standar Deviasi Cross Validation :\",scoresada.std())"
   ]
  },
  {
   "cell_type": "markdown",
   "metadata": {},
   "source": [
    "Dari ke 5 algoritma didapatkan algoritma adaboost memiliki nilai Cross Validation yang paling tinggi selain itu nilai standard deviasi nya kecil sehingga menunjukkan konsistensi algoritma terhadap data. Oleh karena itu pada model prediksi income ini algoritma AdaBoost yang dipilih untuk dilakukan training dan juga hyper parameter tuning"
   ]
  },
  {
   "cell_type": "markdown",
   "metadata": {},
   "source": [
    "# Model Training"
   ]
  },
  {
   "cell_type": "code",
   "execution_count": 38,
   "metadata": {},
   "outputs": [],
   "source": [
    "model_ada = pipeline_adaboost.fit(X_train, y_train)"
   ]
  },
  {
   "cell_type": "code",
   "execution_count": 39,
   "metadata": {},
   "outputs": [],
   "source": [
    "# Parameter Untuk hyper parameter tuning AdaBoost\n",
    "param_grid_adaboost = {\n",
    "    'classifier__n_estimators': [50, 100, 200],\n",
    "    'classifier__learning_rate': [0.01, 0.1, 0.5]\n",
    "}"
   ]
  },
  {
   "cell_type": "code",
   "execution_count": 40,
   "metadata": {},
   "outputs": [
    {
     "data": {
      "text/html": [
       "<style>#sk-container-id-1 {color: black;background-color: white;}#sk-container-id-1 pre{padding: 0;}#sk-container-id-1 div.sk-toggleable {background-color: white;}#sk-container-id-1 label.sk-toggleable__label {cursor: pointer;display: block;width: 100%;margin-bottom: 0;padding: 0.3em;box-sizing: border-box;text-align: center;}#sk-container-id-1 label.sk-toggleable__label-arrow:before {content: \"▸\";float: left;margin-right: 0.25em;color: #696969;}#sk-container-id-1 label.sk-toggleable__label-arrow:hover:before {color: black;}#sk-container-id-1 div.sk-estimator:hover label.sk-toggleable__label-arrow:before {color: black;}#sk-container-id-1 div.sk-toggleable__content {max-height: 0;max-width: 0;overflow: hidden;text-align: left;background-color: #f0f8ff;}#sk-container-id-1 div.sk-toggleable__content pre {margin: 0.2em;color: black;border-radius: 0.25em;background-color: #f0f8ff;}#sk-container-id-1 input.sk-toggleable__control:checked~div.sk-toggleable__content {max-height: 200px;max-width: 100%;overflow: auto;}#sk-container-id-1 input.sk-toggleable__control:checked~label.sk-toggleable__label-arrow:before {content: \"▾\";}#sk-container-id-1 div.sk-estimator input.sk-toggleable__control:checked~label.sk-toggleable__label {background-color: #d4ebff;}#sk-container-id-1 div.sk-label input.sk-toggleable__control:checked~label.sk-toggleable__label {background-color: #d4ebff;}#sk-container-id-1 input.sk-hidden--visually {border: 0;clip: rect(1px 1px 1px 1px);clip: rect(1px, 1px, 1px, 1px);height: 1px;margin: -1px;overflow: hidden;padding: 0;position: absolute;width: 1px;}#sk-container-id-1 div.sk-estimator {font-family: monospace;background-color: #f0f8ff;border: 1px dotted black;border-radius: 0.25em;box-sizing: border-box;margin-bottom: 0.5em;}#sk-container-id-1 div.sk-estimator:hover {background-color: #d4ebff;}#sk-container-id-1 div.sk-parallel-item::after {content: \"\";width: 100%;border-bottom: 1px solid gray;flex-grow: 1;}#sk-container-id-1 div.sk-label:hover label.sk-toggleable__label {background-color: #d4ebff;}#sk-container-id-1 div.sk-serial::before {content: \"\";position: absolute;border-left: 1px solid gray;box-sizing: border-box;top: 0;bottom: 0;left: 50%;z-index: 0;}#sk-container-id-1 div.sk-serial {display: flex;flex-direction: column;align-items: center;background-color: white;padding-right: 0.2em;padding-left: 0.2em;position: relative;}#sk-container-id-1 div.sk-item {position: relative;z-index: 1;}#sk-container-id-1 div.sk-parallel {display: flex;align-items: stretch;justify-content: center;background-color: white;position: relative;}#sk-container-id-1 div.sk-item::before, #sk-container-id-1 div.sk-parallel-item::before {content: \"\";position: absolute;border-left: 1px solid gray;box-sizing: border-box;top: 0;bottom: 0;left: 50%;z-index: -1;}#sk-container-id-1 div.sk-parallel-item {display: flex;flex-direction: column;z-index: 1;position: relative;background-color: white;}#sk-container-id-1 div.sk-parallel-item:first-child::after {align-self: flex-end;width: 50%;}#sk-container-id-1 div.sk-parallel-item:last-child::after {align-self: flex-start;width: 50%;}#sk-container-id-1 div.sk-parallel-item:only-child::after {width: 0;}#sk-container-id-1 div.sk-dashed-wrapped {border: 1px dashed gray;margin: 0 0.4em 0.5em 0.4em;box-sizing: border-box;padding-bottom: 0.4em;background-color: white;}#sk-container-id-1 div.sk-label label {font-family: monospace;font-weight: bold;display: inline-block;line-height: 1.2em;}#sk-container-id-1 div.sk-label-container {text-align: center;}#sk-container-id-1 div.sk-container {/* jupyter's `normalize.less` sets `[hidden] { display: none; }` but bootstrap.min.css set `[hidden] { display: none !important; }` so we also need the `!important` here to be able to override the default hidden behavior on the sphinx rendered scikit-learn.org. See: https://github.com/scikit-learn/scikit-learn/issues/21755 */display: inline-block !important;position: relative;}#sk-container-id-1 div.sk-text-repr-fallback {display: none;}</style><div id=\"sk-container-id-1\" class=\"sk-top-container\"><div class=\"sk-text-repr-fallback\"><pre>GridSearchCV(cv=5,\n",
       "             estimator=Pipeline(steps=[(&#x27;preprocessor&#x27;,\n",
       "                                        ColumnTransformer(transformers=[(&#x27;numerik&#x27;,\n",
       "                                                                         Pipeline(steps=[(&#x27;numscaler&#x27;,\n",
       "                                                                                          MinMaxScaler())]),\n",
       "                                                                         [&#x27;age&#x27;,\n",
       "                                                                          &#x27;educational-num&#x27;,\n",
       "                                                                          &#x27;capital-gain&#x27;,\n",
       "                                                                          &#x27;capital-loss&#x27;,\n",
       "                                                                          &#x27;hours-per-week&#x27;]),\n",
       "                                                                        (&#x27;kategorik&#x27;,\n",
       "                                                                         Pipeline(steps=[(&#x27;catscaler&#x27;,\n",
       "                                                                                          OneHotEncoder(handle_unknown=&#x27;ignore&#x27;,\n",
       "                                                                                                        sparse=False))]),\n",
       "                                                                         [&#x27;workclass&#x27;,\n",
       "                                                                          &#x27;marital-status&#x27;,\n",
       "                                                                          &#x27;occupation&#x27;,\n",
       "                                                                          &#x27;relationship&#x27;,\n",
       "                                                                          &#x27;native-country&#x27;,\n",
       "                                                                          &#x27;gender&#x27;])])),\n",
       "                                       (&#x27;classifier&#x27;, AdaBoostClassifier())]),\n",
       "             param_grid={&#x27;classifier__learning_rate&#x27;: [0.01, 0.1, 0.5],\n",
       "                         &#x27;classifier__n_estimators&#x27;: [50, 100, 200]})</pre><b>In a Jupyter environment, please rerun this cell to show the HTML representation or trust the notebook. <br />On GitHub, the HTML representation is unable to render, please try loading this page with nbviewer.org.</b></div><div class=\"sk-container\" hidden><div class=\"sk-item sk-dashed-wrapped\"><div class=\"sk-label-container\"><div class=\"sk-label sk-toggleable\"><input class=\"sk-toggleable__control sk-hidden--visually\" id=\"sk-estimator-id-1\" type=\"checkbox\" ><label for=\"sk-estimator-id-1\" class=\"sk-toggleable__label sk-toggleable__label-arrow\">GridSearchCV</label><div class=\"sk-toggleable__content\"><pre>GridSearchCV(cv=5,\n",
       "             estimator=Pipeline(steps=[(&#x27;preprocessor&#x27;,\n",
       "                                        ColumnTransformer(transformers=[(&#x27;numerik&#x27;,\n",
       "                                                                         Pipeline(steps=[(&#x27;numscaler&#x27;,\n",
       "                                                                                          MinMaxScaler())]),\n",
       "                                                                         [&#x27;age&#x27;,\n",
       "                                                                          &#x27;educational-num&#x27;,\n",
       "                                                                          &#x27;capital-gain&#x27;,\n",
       "                                                                          &#x27;capital-loss&#x27;,\n",
       "                                                                          &#x27;hours-per-week&#x27;]),\n",
       "                                                                        (&#x27;kategorik&#x27;,\n",
       "                                                                         Pipeline(steps=[(&#x27;catscaler&#x27;,\n",
       "                                                                                          OneHotEncoder(handle_unknown=&#x27;ignore&#x27;,\n",
       "                                                                                                        sparse=False))]),\n",
       "                                                                         [&#x27;workclass&#x27;,\n",
       "                                                                          &#x27;marital-status&#x27;,\n",
       "                                                                          &#x27;occupation&#x27;,\n",
       "                                                                          &#x27;relationship&#x27;,\n",
       "                                                                          &#x27;native-country&#x27;,\n",
       "                                                                          &#x27;gender&#x27;])])),\n",
       "                                       (&#x27;classifier&#x27;, AdaBoostClassifier())]),\n",
       "             param_grid={&#x27;classifier__learning_rate&#x27;: [0.01, 0.1, 0.5],\n",
       "                         &#x27;classifier__n_estimators&#x27;: [50, 100, 200]})</pre></div></div></div><div class=\"sk-parallel\"><div class=\"sk-parallel-item\"><div class=\"sk-item\"><div class=\"sk-label-container\"><div class=\"sk-label sk-toggleable\"><input class=\"sk-toggleable__control sk-hidden--visually\" id=\"sk-estimator-id-2\" type=\"checkbox\" ><label for=\"sk-estimator-id-2\" class=\"sk-toggleable__label sk-toggleable__label-arrow\">estimator: Pipeline</label><div class=\"sk-toggleable__content\"><pre>Pipeline(steps=[(&#x27;preprocessor&#x27;,\n",
       "                 ColumnTransformer(transformers=[(&#x27;numerik&#x27;,\n",
       "                                                  Pipeline(steps=[(&#x27;numscaler&#x27;,\n",
       "                                                                   MinMaxScaler())]),\n",
       "                                                  [&#x27;age&#x27;, &#x27;educational-num&#x27;,\n",
       "                                                   &#x27;capital-gain&#x27;,\n",
       "                                                   &#x27;capital-loss&#x27;,\n",
       "                                                   &#x27;hours-per-week&#x27;]),\n",
       "                                                 (&#x27;kategorik&#x27;,\n",
       "                                                  Pipeline(steps=[(&#x27;catscaler&#x27;,\n",
       "                                                                   OneHotEncoder(handle_unknown=&#x27;ignore&#x27;,\n",
       "                                                                                 sparse=False))]),\n",
       "                                                  [&#x27;workclass&#x27;,\n",
       "                                                   &#x27;marital-status&#x27;,\n",
       "                                                   &#x27;occupation&#x27;, &#x27;relationship&#x27;,\n",
       "                                                   &#x27;native-country&#x27;,\n",
       "                                                   &#x27;gender&#x27;])])),\n",
       "                (&#x27;classifier&#x27;, AdaBoostClassifier())])</pre></div></div></div><div class=\"sk-serial\"><div class=\"sk-item\"><div class=\"sk-serial\"><div class=\"sk-item sk-dashed-wrapped\"><div class=\"sk-label-container\"><div class=\"sk-label sk-toggleable\"><input class=\"sk-toggleable__control sk-hidden--visually\" id=\"sk-estimator-id-3\" type=\"checkbox\" ><label for=\"sk-estimator-id-3\" class=\"sk-toggleable__label sk-toggleable__label-arrow\">preprocessor: ColumnTransformer</label><div class=\"sk-toggleable__content\"><pre>ColumnTransformer(transformers=[(&#x27;numerik&#x27;,\n",
       "                                 Pipeline(steps=[(&#x27;numscaler&#x27;,\n",
       "                                                  MinMaxScaler())]),\n",
       "                                 [&#x27;age&#x27;, &#x27;educational-num&#x27;, &#x27;capital-gain&#x27;,\n",
       "                                  &#x27;capital-loss&#x27;, &#x27;hours-per-week&#x27;]),\n",
       "                                (&#x27;kategorik&#x27;,\n",
       "                                 Pipeline(steps=[(&#x27;catscaler&#x27;,\n",
       "                                                  OneHotEncoder(handle_unknown=&#x27;ignore&#x27;,\n",
       "                                                                sparse=False))]),\n",
       "                                 [&#x27;workclass&#x27;, &#x27;marital-status&#x27;, &#x27;occupation&#x27;,\n",
       "                                  &#x27;relationship&#x27;, &#x27;native-country&#x27;,\n",
       "                                  &#x27;gender&#x27;])])</pre></div></div></div><div class=\"sk-parallel\"><div class=\"sk-parallel-item\"><div class=\"sk-item\"><div class=\"sk-label-container\"><div class=\"sk-label sk-toggleable\"><input class=\"sk-toggleable__control sk-hidden--visually\" id=\"sk-estimator-id-4\" type=\"checkbox\" ><label for=\"sk-estimator-id-4\" class=\"sk-toggleable__label sk-toggleable__label-arrow\">numerik</label><div class=\"sk-toggleable__content\"><pre>[&#x27;age&#x27;, &#x27;educational-num&#x27;, &#x27;capital-gain&#x27;, &#x27;capital-loss&#x27;, &#x27;hours-per-week&#x27;]</pre></div></div></div><div class=\"sk-serial\"><div class=\"sk-item\"><div class=\"sk-serial\"><div class=\"sk-item\"><div class=\"sk-estimator sk-toggleable\"><input class=\"sk-toggleable__control sk-hidden--visually\" id=\"sk-estimator-id-5\" type=\"checkbox\" ><label for=\"sk-estimator-id-5\" class=\"sk-toggleable__label sk-toggleable__label-arrow\">MinMaxScaler</label><div class=\"sk-toggleable__content\"><pre>MinMaxScaler()</pre></div></div></div></div></div></div></div></div><div class=\"sk-parallel-item\"><div class=\"sk-item\"><div class=\"sk-label-container\"><div class=\"sk-label sk-toggleable\"><input class=\"sk-toggleable__control sk-hidden--visually\" id=\"sk-estimator-id-6\" type=\"checkbox\" ><label for=\"sk-estimator-id-6\" class=\"sk-toggleable__label sk-toggleable__label-arrow\">kategorik</label><div class=\"sk-toggleable__content\"><pre>[&#x27;workclass&#x27;, &#x27;marital-status&#x27;, &#x27;occupation&#x27;, &#x27;relationship&#x27;, &#x27;native-country&#x27;, &#x27;gender&#x27;]</pre></div></div></div><div class=\"sk-serial\"><div class=\"sk-item\"><div class=\"sk-serial\"><div class=\"sk-item\"><div class=\"sk-estimator sk-toggleable\"><input class=\"sk-toggleable__control sk-hidden--visually\" id=\"sk-estimator-id-7\" type=\"checkbox\" ><label for=\"sk-estimator-id-7\" class=\"sk-toggleable__label sk-toggleable__label-arrow\">OneHotEncoder</label><div class=\"sk-toggleable__content\"><pre>OneHotEncoder(handle_unknown=&#x27;ignore&#x27;, sparse=False)</pre></div></div></div></div></div></div></div></div></div></div><div class=\"sk-item\"><div class=\"sk-estimator sk-toggleable\"><input class=\"sk-toggleable__control sk-hidden--visually\" id=\"sk-estimator-id-8\" type=\"checkbox\" ><label for=\"sk-estimator-id-8\" class=\"sk-toggleable__label sk-toggleable__label-arrow\">AdaBoostClassifier</label><div class=\"sk-toggleable__content\"><pre>AdaBoostClassifier()</pre></div></div></div></div></div></div></div></div></div></div></div></div>"
      ],
      "text/plain": [
       "GridSearchCV(cv=5,\n",
       "             estimator=Pipeline(steps=[('preprocessor',\n",
       "                                        ColumnTransformer(transformers=[('numerik',\n",
       "                                                                         Pipeline(steps=[('numscaler',\n",
       "                                                                                          MinMaxScaler())]),\n",
       "                                                                         ['age',\n",
       "                                                                          'educational-num',\n",
       "                                                                          'capital-gain',\n",
       "                                                                          'capital-loss',\n",
       "                                                                          'hours-per-week']),\n",
       "                                                                        ('kategorik',\n",
       "                                                                         Pipeline(steps=[('catscaler',\n",
       "                                                                                          OneHotEncoder(handle_unknown='ignore',\n",
       "                                                                                                        sparse=False))]),\n",
       "                                                                         ['workclass',\n",
       "                                                                          'marital-status',\n",
       "                                                                          'occupation',\n",
       "                                                                          'relationship',\n",
       "                                                                          'native-country',\n",
       "                                                                          'gender'])])),\n",
       "                                       ('classifier', AdaBoostClassifier())]),\n",
       "             param_grid={'classifier__learning_rate': [0.01, 0.1, 0.5],\n",
       "                         'classifier__n_estimators': [50, 100, 200]})"
      ]
     },
     "execution_count": 40,
     "metadata": {},
     "output_type": "execute_result"
    }
   ],
   "source": [
    "gridada = GridSearchCV(pipeline_adaboost, param_grid_adaboost, cv=5)\n",
    "gridada.fit(X_train,y_train)"
   ]
  },
  {
   "cell_type": "code",
   "execution_count": 41,
   "metadata": {},
   "outputs": [
    {
     "data": {
      "text/html": [
       "<style>#sk-container-id-2 {color: black;background-color: white;}#sk-container-id-2 pre{padding: 0;}#sk-container-id-2 div.sk-toggleable {background-color: white;}#sk-container-id-2 label.sk-toggleable__label {cursor: pointer;display: block;width: 100%;margin-bottom: 0;padding: 0.3em;box-sizing: border-box;text-align: center;}#sk-container-id-2 label.sk-toggleable__label-arrow:before {content: \"▸\";float: left;margin-right: 0.25em;color: #696969;}#sk-container-id-2 label.sk-toggleable__label-arrow:hover:before {color: black;}#sk-container-id-2 div.sk-estimator:hover label.sk-toggleable__label-arrow:before {color: black;}#sk-container-id-2 div.sk-toggleable__content {max-height: 0;max-width: 0;overflow: hidden;text-align: left;background-color: #f0f8ff;}#sk-container-id-2 div.sk-toggleable__content pre {margin: 0.2em;color: black;border-radius: 0.25em;background-color: #f0f8ff;}#sk-container-id-2 input.sk-toggleable__control:checked~div.sk-toggleable__content {max-height: 200px;max-width: 100%;overflow: auto;}#sk-container-id-2 input.sk-toggleable__control:checked~label.sk-toggleable__label-arrow:before {content: \"▾\";}#sk-container-id-2 div.sk-estimator input.sk-toggleable__control:checked~label.sk-toggleable__label {background-color: #d4ebff;}#sk-container-id-2 div.sk-label input.sk-toggleable__control:checked~label.sk-toggleable__label {background-color: #d4ebff;}#sk-container-id-2 input.sk-hidden--visually {border: 0;clip: rect(1px 1px 1px 1px);clip: rect(1px, 1px, 1px, 1px);height: 1px;margin: -1px;overflow: hidden;padding: 0;position: absolute;width: 1px;}#sk-container-id-2 div.sk-estimator {font-family: monospace;background-color: #f0f8ff;border: 1px dotted black;border-radius: 0.25em;box-sizing: border-box;margin-bottom: 0.5em;}#sk-container-id-2 div.sk-estimator:hover {background-color: #d4ebff;}#sk-container-id-2 div.sk-parallel-item::after {content: \"\";width: 100%;border-bottom: 1px solid gray;flex-grow: 1;}#sk-container-id-2 div.sk-label:hover label.sk-toggleable__label {background-color: #d4ebff;}#sk-container-id-2 div.sk-serial::before {content: \"\";position: absolute;border-left: 1px solid gray;box-sizing: border-box;top: 0;bottom: 0;left: 50%;z-index: 0;}#sk-container-id-2 div.sk-serial {display: flex;flex-direction: column;align-items: center;background-color: white;padding-right: 0.2em;padding-left: 0.2em;position: relative;}#sk-container-id-2 div.sk-item {position: relative;z-index: 1;}#sk-container-id-2 div.sk-parallel {display: flex;align-items: stretch;justify-content: center;background-color: white;position: relative;}#sk-container-id-2 div.sk-item::before, #sk-container-id-2 div.sk-parallel-item::before {content: \"\";position: absolute;border-left: 1px solid gray;box-sizing: border-box;top: 0;bottom: 0;left: 50%;z-index: -1;}#sk-container-id-2 div.sk-parallel-item {display: flex;flex-direction: column;z-index: 1;position: relative;background-color: white;}#sk-container-id-2 div.sk-parallel-item:first-child::after {align-self: flex-end;width: 50%;}#sk-container-id-2 div.sk-parallel-item:last-child::after {align-self: flex-start;width: 50%;}#sk-container-id-2 div.sk-parallel-item:only-child::after {width: 0;}#sk-container-id-2 div.sk-dashed-wrapped {border: 1px dashed gray;margin: 0 0.4em 0.5em 0.4em;box-sizing: border-box;padding-bottom: 0.4em;background-color: white;}#sk-container-id-2 div.sk-label label {font-family: monospace;font-weight: bold;display: inline-block;line-height: 1.2em;}#sk-container-id-2 div.sk-label-container {text-align: center;}#sk-container-id-2 div.sk-container {/* jupyter's `normalize.less` sets `[hidden] { display: none; }` but bootstrap.min.css set `[hidden] { display: none !important; }` so we also need the `!important` here to be able to override the default hidden behavior on the sphinx rendered scikit-learn.org. See: https://github.com/scikit-learn/scikit-learn/issues/21755 */display: inline-block !important;position: relative;}#sk-container-id-2 div.sk-text-repr-fallback {display: none;}</style><div id=\"sk-container-id-2\" class=\"sk-top-container\"><div class=\"sk-text-repr-fallback\"><pre>Pipeline(steps=[(&#x27;preprocessor&#x27;,\n",
       "                 ColumnTransformer(transformers=[(&#x27;numerik&#x27;,\n",
       "                                                  Pipeline(steps=[(&#x27;numscaler&#x27;,\n",
       "                                                                   MinMaxScaler())]),\n",
       "                                                  [&#x27;age&#x27;, &#x27;educational-num&#x27;,\n",
       "                                                   &#x27;capital-gain&#x27;,\n",
       "                                                   &#x27;capital-loss&#x27;,\n",
       "                                                   &#x27;hours-per-week&#x27;]),\n",
       "                                                 (&#x27;kategorik&#x27;,\n",
       "                                                  Pipeline(steps=[(&#x27;catscaler&#x27;,\n",
       "                                                                   OneHotEncoder(handle_unknown=&#x27;ignore&#x27;,\n",
       "                                                                                 sparse=False))]),\n",
       "                                                  [&#x27;workclass&#x27;,\n",
       "                                                   &#x27;marital-status&#x27;,\n",
       "                                                   &#x27;occupation&#x27;, &#x27;relationship&#x27;,\n",
       "                                                   &#x27;native-country&#x27;,\n",
       "                                                   &#x27;gender&#x27;])])),\n",
       "                (&#x27;classifier&#x27;,\n",
       "                 AdaBoostClassifier(learning_rate=0.5, n_estimators=200))])</pre><b>In a Jupyter environment, please rerun this cell to show the HTML representation or trust the notebook. <br />On GitHub, the HTML representation is unable to render, please try loading this page with nbviewer.org.</b></div><div class=\"sk-container\" hidden><div class=\"sk-item sk-dashed-wrapped\"><div class=\"sk-label-container\"><div class=\"sk-label sk-toggleable\"><input class=\"sk-toggleable__control sk-hidden--visually\" id=\"sk-estimator-id-9\" type=\"checkbox\" ><label for=\"sk-estimator-id-9\" class=\"sk-toggleable__label sk-toggleable__label-arrow\">Pipeline</label><div class=\"sk-toggleable__content\"><pre>Pipeline(steps=[(&#x27;preprocessor&#x27;,\n",
       "                 ColumnTransformer(transformers=[(&#x27;numerik&#x27;,\n",
       "                                                  Pipeline(steps=[(&#x27;numscaler&#x27;,\n",
       "                                                                   MinMaxScaler())]),\n",
       "                                                  [&#x27;age&#x27;, &#x27;educational-num&#x27;,\n",
       "                                                   &#x27;capital-gain&#x27;,\n",
       "                                                   &#x27;capital-loss&#x27;,\n",
       "                                                   &#x27;hours-per-week&#x27;]),\n",
       "                                                 (&#x27;kategorik&#x27;,\n",
       "                                                  Pipeline(steps=[(&#x27;catscaler&#x27;,\n",
       "                                                                   OneHotEncoder(handle_unknown=&#x27;ignore&#x27;,\n",
       "                                                                                 sparse=False))]),\n",
       "                                                  [&#x27;workclass&#x27;,\n",
       "                                                   &#x27;marital-status&#x27;,\n",
       "                                                   &#x27;occupation&#x27;, &#x27;relationship&#x27;,\n",
       "                                                   &#x27;native-country&#x27;,\n",
       "                                                   &#x27;gender&#x27;])])),\n",
       "                (&#x27;classifier&#x27;,\n",
       "                 AdaBoostClassifier(learning_rate=0.5, n_estimators=200))])</pre></div></div></div><div class=\"sk-serial\"><div class=\"sk-item sk-dashed-wrapped\"><div class=\"sk-label-container\"><div class=\"sk-label sk-toggleable\"><input class=\"sk-toggleable__control sk-hidden--visually\" id=\"sk-estimator-id-10\" type=\"checkbox\" ><label for=\"sk-estimator-id-10\" class=\"sk-toggleable__label sk-toggleable__label-arrow\">preprocessor: ColumnTransformer</label><div class=\"sk-toggleable__content\"><pre>ColumnTransformer(transformers=[(&#x27;numerik&#x27;,\n",
       "                                 Pipeline(steps=[(&#x27;numscaler&#x27;,\n",
       "                                                  MinMaxScaler())]),\n",
       "                                 [&#x27;age&#x27;, &#x27;educational-num&#x27;, &#x27;capital-gain&#x27;,\n",
       "                                  &#x27;capital-loss&#x27;, &#x27;hours-per-week&#x27;]),\n",
       "                                (&#x27;kategorik&#x27;,\n",
       "                                 Pipeline(steps=[(&#x27;catscaler&#x27;,\n",
       "                                                  OneHotEncoder(handle_unknown=&#x27;ignore&#x27;,\n",
       "                                                                sparse=False))]),\n",
       "                                 [&#x27;workclass&#x27;, &#x27;marital-status&#x27;, &#x27;occupation&#x27;,\n",
       "                                  &#x27;relationship&#x27;, &#x27;native-country&#x27;,\n",
       "                                  &#x27;gender&#x27;])])</pre></div></div></div><div class=\"sk-parallel\"><div class=\"sk-parallel-item\"><div class=\"sk-item\"><div class=\"sk-label-container\"><div class=\"sk-label sk-toggleable\"><input class=\"sk-toggleable__control sk-hidden--visually\" id=\"sk-estimator-id-11\" type=\"checkbox\" ><label for=\"sk-estimator-id-11\" class=\"sk-toggleable__label sk-toggleable__label-arrow\">numerik</label><div class=\"sk-toggleable__content\"><pre>[&#x27;age&#x27;, &#x27;educational-num&#x27;, &#x27;capital-gain&#x27;, &#x27;capital-loss&#x27;, &#x27;hours-per-week&#x27;]</pre></div></div></div><div class=\"sk-serial\"><div class=\"sk-item\"><div class=\"sk-serial\"><div class=\"sk-item\"><div class=\"sk-estimator sk-toggleable\"><input class=\"sk-toggleable__control sk-hidden--visually\" id=\"sk-estimator-id-12\" type=\"checkbox\" ><label for=\"sk-estimator-id-12\" class=\"sk-toggleable__label sk-toggleable__label-arrow\">MinMaxScaler</label><div class=\"sk-toggleable__content\"><pre>MinMaxScaler()</pre></div></div></div></div></div></div></div></div><div class=\"sk-parallel-item\"><div class=\"sk-item\"><div class=\"sk-label-container\"><div class=\"sk-label sk-toggleable\"><input class=\"sk-toggleable__control sk-hidden--visually\" id=\"sk-estimator-id-13\" type=\"checkbox\" ><label for=\"sk-estimator-id-13\" class=\"sk-toggleable__label sk-toggleable__label-arrow\">kategorik</label><div class=\"sk-toggleable__content\"><pre>[&#x27;workclass&#x27;, &#x27;marital-status&#x27;, &#x27;occupation&#x27;, &#x27;relationship&#x27;, &#x27;native-country&#x27;, &#x27;gender&#x27;]</pre></div></div></div><div class=\"sk-serial\"><div class=\"sk-item\"><div class=\"sk-serial\"><div class=\"sk-item\"><div class=\"sk-estimator sk-toggleable\"><input class=\"sk-toggleable__control sk-hidden--visually\" id=\"sk-estimator-id-14\" type=\"checkbox\" ><label for=\"sk-estimator-id-14\" class=\"sk-toggleable__label sk-toggleable__label-arrow\">OneHotEncoder</label><div class=\"sk-toggleable__content\"><pre>OneHotEncoder(handle_unknown=&#x27;ignore&#x27;, sparse=False)</pre></div></div></div></div></div></div></div></div></div></div><div class=\"sk-item\"><div class=\"sk-estimator sk-toggleable\"><input class=\"sk-toggleable__control sk-hidden--visually\" id=\"sk-estimator-id-15\" type=\"checkbox\" ><label for=\"sk-estimator-id-15\" class=\"sk-toggleable__label sk-toggleable__label-arrow\">AdaBoostClassifier</label><div class=\"sk-toggleable__content\"><pre>AdaBoostClassifier(learning_rate=0.5, n_estimators=200)</pre></div></div></div></div></div></div></div>"
      ],
      "text/plain": [
       "Pipeline(steps=[('preprocessor',\n",
       "                 ColumnTransformer(transformers=[('numerik',\n",
       "                                                  Pipeline(steps=[('numscaler',\n",
       "                                                                   MinMaxScaler())]),\n",
       "                                                  ['age', 'educational-num',\n",
       "                                                   'capital-gain',\n",
       "                                                   'capital-loss',\n",
       "                                                   'hours-per-week']),\n",
       "                                                 ('kategorik',\n",
       "                                                  Pipeline(steps=[('catscaler',\n",
       "                                                                   OneHotEncoder(handle_unknown='ignore',\n",
       "                                                                                 sparse=False))]),\n",
       "                                                  ['workclass',\n",
       "                                                   'marital-status',\n",
       "                                                   'occupation', 'relationship',\n",
       "                                                   'native-country',\n",
       "                                                   'gender'])])),\n",
       "                ('classifier',\n",
       "                 AdaBoostClassifier(learning_rate=0.5, n_estimators=200))])"
      ]
     },
     "execution_count": 41,
     "metadata": {},
     "output_type": "execute_result"
    }
   ],
   "source": [
    "# Get the best svm hyperparameter best estimator training model\n",
    "model_ada_gridsearchCV = gridada.best_estimator_\n",
    "model_ada_gridsearchCV"
   ]
  },
  {
   "cell_type": "code",
   "execution_count": 42,
   "metadata": {},
   "outputs": [
    {
     "name": "stdout",
     "output_type": "stream",
     "text": [
      "Cross Validation Score model_svm_gridsearchCV array     : [0.855285   0.8555617  0.863171   0.86123409 0.85929718]\n",
      "Best Cross Validation Score model_svm_gridsearchCV      : 0.859\n",
      "Standar Deviasi Cross Validation model_svm_gridsearchCV : 0.000\n"
     ]
    }
   ],
   "source": [
    "# Finding the value of cross validation after hyperparameter best estimator\n",
    "scores = cross_val_score(model_ada_gridsearchCV, X_train, y_train, cv=5)\n",
    "print(\"Cross Validation Score model_svm_gridsearchCV array     :\",scores)\n",
    "print(\"Best Cross Validation Score model_svm_gridsearchCV      : {:.3f}\".format(gridada.best_score_))\n",
    "print(\"Standar Deviasi Cross Validation model_svm_gridsearchCV : {:.3f}\".format(gridada.best_score_.std()))"
   ]
  },
  {
   "cell_type": "markdown",
   "metadata": {},
   "source": [
    "setelah dilakukan hyper parameter tuning nilai cross validation adaboost meningkat sedikit dan juga nilai standart deviasi semakin kecil sehingga setelah dilakukan hyperparameter tuning di dapatkan model yang lebih baik dari sebelum di tuning"
   ]
  },
  {
   "cell_type": "markdown",
   "metadata": {},
   "source": [
    "# Model Evaluation"
   ]
  },
  {
   "cell_type": "code",
   "execution_count": 43,
   "metadata": {},
   "outputs": [
    {
     "name": "stdout",
     "output_type": "stream",
     "text": [
      "accuracy score train :  0.8570005534034311\n",
      "accuracy score test :  0.8575539568345324\n"
     ]
    }
   ],
   "source": [
    "# AdaBoosting Model Accuracy Performance\n",
    "y_pred_train_ada= model_ada.predict(X_train)\n",
    "y_pred_test_ada = model_ada.predict(X_test)\n",
    "print('accuracy score train : ',accuracy_score(y_train,y_pred_train_ada))\n",
    "print('accuracy score test : ',accuracy_score(y_test,y_pred_test_ada))"
   ]
  },
  {
   "cell_type": "code",
   "execution_count": 44,
   "metadata": {},
   "outputs": [
    {
     "name": "stdout",
     "output_type": "stream",
     "text": [
      "accuracy score train :  0.8603763143331489\n",
      "accuracy score test :  0.8595462091864969\n"
     ]
    }
   ],
   "source": [
    "# Best AdaBoosting Model Accuracy Performance\n",
    "y_pred_train_ada_gridsearchCV= model_ada_gridsearchCV.predict(X_train)\n",
    "y_pred_test_ada_gridsearchCV = model_ada_gridsearchCV.predict(X_test)\n",
    "print('accuracy score train : ',accuracy_score(y_train,y_pred_train_ada_gridsearchCV))\n",
    "print('accuracy score test : ',accuracy_score(y_test,y_pred_test_ada_gridsearchCV))"
   ]
  },
  {
   "cell_type": "code",
   "execution_count": 63,
   "metadata": {},
   "outputs": [
    {
     "name": "stdout",
     "output_type": "stream",
     "text": [
      "Recall: 0.6145\n",
      "Recall: 0.6161\n"
     ]
    }
   ],
   "source": [
    "recall_train_ada = recall_score(y_train, y_pred_train_ada_gridsearchCV)\n",
    "recall_test_ada = recall_score(y_test, y_pred_test_ada_gridsearchCV)\n",
    "\n",
    "print(f\"Recall: {recall_train_ada:.4f}\")\n",
    "print(f\"Recall: {recall_test_ada:.4f}\")"
   ]
  },
  {
   "cell_type": "code",
   "execution_count": 45,
   "metadata": {},
   "outputs": [
    {
     "name": "stdout",
     "output_type": "stream",
     "text": [
      "confusion matrix AdaBoosting Train Set\n"
     ]
    },
    {
     "data": {
      "image/png": "[encoded data removed]",
      "text/plain": [
       "<Figure size 640x480 with 2 Axes>"
      ]
     },
     "metadata": {},
     "output_type": "display_data"
    },
    {
     "name": "stdout",
     "output_type": "stream",
     "text": [
      "                                           \n",
      "confusion matrix AdaBoosting Test Set\n"
     ]
    },
    {
     "data": {
      "image/png": "[encoded data removed]",
      "text/plain": [
       "<Figure size 640x480 with 2 Axes>"
      ]
     },
     "metadata": {},
     "output_type": "display_data"
    }
   ],
   "source": [
    "# Confusion Matrix AdaBoosting table with 4 different combinations of predicted value and actual value\n",
    "print('confusion matrix AdaBoosting Train Set')\n",
    "ab = confusion_matrix(y_train,y_pred_train_ada, labels=model_ada.classes_)\n",
    "dispnb = ConfusionMatrixDisplay(confusion_matrix=ab,display_labels=model_ada.classes_)\n",
    "dispnb.plot()\n",
    "plt.show()\n",
    "print('                                           ')\n",
    "print('confusion matrix AdaBoosting Test Set')\n",
    "ab2 = confusion_matrix(y_test,y_pred_test_ada, labels=model_ada.classes_)\n",
    "dispab2 = ConfusionMatrixDisplay(confusion_matrix=ab2,display_labels=model_ada.classes_)\n",
    "dispab2.plot()\n",
    "plt.show()"
   ]
  },
  {
   "cell_type": "code",
   "execution_count": 46,
   "metadata": {},
   "outputs": [
    {
     "name": "stdout",
     "output_type": "stream",
     "text": [
      " Best confusion matrix AdaBoosting Train Set\n"
     ]
    },
    {
     "data": {
      "image/png": "[encoded data removed]",
      "text/plain": [
       "<Figure size 640x480 with 2 Axes>"
      ]
     },
     "metadata": {},
     "output_type": "display_data"
    },
    {
     "name": "stdout",
     "output_type": "stream",
     "text": [
      "                                           \n",
      " Best confusion matrix AdaBoosting Test Set\n"
     ]
    },
    {
     "data": {
      "image/png": "[encoded data removed]",
      "text/plain": [
       "<Figure size 640x480 with 2 Axes>"
      ]
     },
     "metadata": {},
     "output_type": "display_data"
    }
   ],
   "source": [
    "# Best Confusion Matrix AdaBoosting table with 4 different combinations of predicted value and actual value\n",
    "print(' Best confusion matrix AdaBoosting Train Set')\n",
    "ab = confusion_matrix(y_train,y_pred_train_ada_gridsearchCV, labels=model_ada_gridsearchCV.classes_)\n",
    "dispnb = ConfusionMatrixDisplay(confusion_matrix=ab,display_labels=model_ada_gridsearchCV.classes_)\n",
    "dispnb.plot()\n",
    "plt.show()\n",
    "print('                                           ')\n",
    "print(' Best confusion matrix AdaBoosting Test Set')\n",
    "ab2 = confusion_matrix(y_test,y_pred_test_ada_gridsearchCV, labels=model_ada_gridsearchCV.classes_)\n",
    "dispab2 = ConfusionMatrixDisplay(confusion_matrix=ab2,display_labels=model_ada_gridsearchCV.classes_)\n",
    "dispab2.plot()\n",
    "plt.show()"
   ]
  },
  {
   "cell_type": "markdown",
   "metadata": {},
   "source": [
    "pada train set:\n",
    "TP : 25608\n",
    "TN : 5486\n",
    "FP : 1604\n",
    "FN : 3442\n",
    "pada test set:\n",
    "TP : 6365\n",
    "TN : 1401\n",
    "FP : 396\n",
    "FN : 873\n",
    "\n",
    "Nilai kesalahan prediksi yang ada pada train set sebesar +- 14 persen dimana +- 68 di prediksi sebagai false negative dan +- 31 persen diprediksi sebagai false positif dan pada test set nilai nya hampir sama dengan train set"
   ]
  },
  {
   "cell_type": "code",
   "execution_count": 47,
   "metadata": {},
   "outputs": [
    {
     "name": "stdout",
     "output_type": "stream",
     "text": [
      "classification report AdaBoosting Train Set\n",
      "              precision    recall  f1-score   support\n",
      "\n",
      "           0       0.88      0.94      0.91     27212\n",
      "           1       0.76      0.62      0.68      8928\n",
      "\n",
      "    accuracy                           0.86     36140\n",
      "   macro avg       0.82      0.78      0.79     36140\n",
      "weighted avg       0.85      0.86      0.85     36140\n",
      "\n",
      "                                  \n",
      "classification report AdaBoosting Test Set\n",
      "              precision    recall  f1-score   support\n",
      "\n",
      "           0       0.88      0.94      0.91      6761\n",
      "           1       0.77      0.62      0.69      2274\n",
      "\n",
      "    accuracy                           0.86      9035\n",
      "   macro avg       0.82      0.78      0.80      9035\n",
      "weighted avg       0.85      0.86      0.85      9035\n",
      "\n"
     ]
    }
   ],
   "source": [
    "# classification model AdaBoosting to predict opportunities that occur\n",
    "print('classification report AdaBoosting Train Set')\n",
    "print(classification_report(y_train,y_pred_train_ada))\n",
    "print('                                  ')\n",
    "print('classification report AdaBoosting Test Set')\n",
    "print(classification_report(y_test,y_pred_test_ada))"
   ]
  },
  {
   "cell_type": "code",
   "execution_count": 48,
   "metadata": {},
   "outputs": [
    {
     "name": "stdout",
     "output_type": "stream",
     "text": [
      "classification report AdaBoosting Train Set\n",
      "              precision    recall  f1-score   support\n",
      "\n",
      "           0       0.88      0.94      0.91     27212\n",
      "           1       0.77      0.61      0.68      8928\n",
      "\n",
      "    accuracy                           0.86     36140\n",
      "   macro avg       0.83      0.78      0.80     36140\n",
      "weighted avg       0.85      0.86      0.85     36140\n",
      "\n",
      "                                  \n",
      "classification report AdaBoosting Test Set\n",
      "              precision    recall  f1-score   support\n",
      "\n",
      "           0       0.88      0.94      0.91      6761\n",
      "           1       0.78      0.62      0.69      2274\n",
      "\n",
      "    accuracy                           0.86      9035\n",
      "   macro avg       0.83      0.78      0.80      9035\n",
      "weighted avg       0.85      0.86      0.85      9035\n",
      "\n"
     ]
    }
   ],
   "source": [
    "# Best Classification model AdaBoosting to predict opportunities that occur\n",
    "print('classification report AdaBoosting Train Set')\n",
    "print(classification_report(y_train,y_pred_train_ada_gridsearchCV))\n",
    "print('                                  ')\n",
    "print('classification report AdaBoosting Test Set')\n",
    "print(classification_report(y_test,y_pred_test_ada_gridsearchCV))"
   ]
  },
  {
   "cell_type": "markdown",
   "metadata": {},
   "source": [
    "secara garis besar kesimpulan dari model ini adalah:\n",
    "\n",
    "\n",
    "model lebih baik dalam memprediksi nilai 0 dibandingkan dengan memprediksi nilai 1, selain itu kesalahan tafsir tersebut kebanyakan adalah nilai yang seharusnya 1 tetapi di prediksi sebagai 0 atau FN hal itu juga terlihat pada confusion matrix yang telah di tampilkan sebelumnya atau dengan kata lain Meskipun tingkat akurasi secara keseluruhan cukup tinggi, perlu diperhatikan bahwa recall untuk kategori gaji di atas $50K (kelas 1) relatif lebih rendah. Hal ini dapat diartikan bahwa model cenderung kurang sensitif dalam mengidentifikasi individu yang sebenarnya memiliki gaji di atas $50K, dan ada potensi untuk tidak mendeteksi sejumlah individu dalam kategori ini. Tetapi hal itu masih sejalan dengan kebutuhan bisnis, karena PT XYZ tidak bisa menampung seluruh karyawan yang di data melainkan PT XYZ hanya mengambil karyawan yang sudah pasti mendaptkan gaji diatas 50k"
   ]
  },
  {
   "cell_type": "markdown",
   "metadata": {},
   "source": [
    "# Model Saving"
   ]
  },
  {
   "cell_type": "code",
   "execution_count": 49,
   "metadata": {},
   "outputs": [],
   "source": [
    "with open('model_scaler.pkl', 'wb') as file_1:\n",
    "    pickle.dump(num_transformer, file_1)\n",
    "with open('model_train', 'wb') as file_2:\n",
    "    pickle.dump(model_ada_gridsearchCV, file_2)\n",
    "with open('model_encoder', 'wb') as file_3:\n",
    "    pickle.dump(cat_transformer, file_3)\n",
    "with open('list_num.json', 'w') as file_4:\n",
    "    json.dump(num_col, file_4)\n",
    "with open('list_cat.json', 'w') as file_5:\n",
    "    json.dump(cat_nom_col, file_5)\n",
    "with open('model_prepocessor', 'wb') as file_6:\n",
    "    pickle.dump(preprocessor, file_6)\n",
    "with open('model_adaboost', 'wb') as file_7:\n",
    "    pickle.dump(adaboost_model, file_7)"
   ]
  },
  {
   "cell_type": "markdown",
   "metadata": {},
   "source": [
    "# Model Inference"
   ]
  },
  {
   "cell_type": "code",
   "execution_count": 52,
   "metadata": {},
   "outputs": [],
   "source": [
    "# Load MinMaxScaler model\n",
    "with open('model_scaler.pkl', 'rb') as file_1:\n",
    "    num_trans = pickle.load(file_1)\n",
    "\n",
    "# Load AdaBoost model\n",
    "with open('model_train', 'rb') as file_2:\n",
    "    ada_gridsearchCV = pickle.load(file_2)\n",
    "\n",
    "# Load OneHotEncoder model\n",
    "with open('model_encoder', 'rb') as file_3:\n",
    "    cat_trans = pickle.load(file_3)\n",
    "\n",
    "# Load list_num from JSON\n",
    "with open('list_num.json', 'r') as file_4:\n",
    "    num_cols = json.load(file_4)\n",
    "\n",
    "# Load list_cat from JSON\n",
    "with open('list_cat.json', 'r') as file_5:\n",
    "    cat_cols = json.load(file_5)\n",
    "\n",
    "# Load ColumnTransformer preprocessor\n",
    "with open('model_prepocessor', 'rb') as file_6:\n",
    "    model_preprocessor = pickle.load(file_6)\n",
    "\n",
    "# Load AdaBoostClassifier model\n",
    "with open('model_adaboost', 'rb') as file_7:\n",
    "    ada_model = pickle.load(file_7)"
   ]
  },
  {
   "cell_type": "code",
   "execution_count": 51,
   "metadata": {},
   "outputs": [],
   "source": [
    "data_new = pd.DataFrame({\n",
    "    'age': [25, 38, 28, 44, 34],\n",
    "    'workclass': ['Private', 'Private', 'Local-gov', 'Private', 'Private'],\n",
    "    'educational-num': [7, 9, 12, 10, 6],\n",
    "    'marital-status': ['Never-married', 'Married-civ-spouse', 'Married-civ-spouse', 'Married-civ-spouse', 'Never-married'],\n",
    "    'occupation': ['Machine-op-inspct', 'Farming-fishing', 'Protective-serv', 'Machine-op-inspct', 'Other-service'],\n",
    "    'relationship': ['Own-child', 'Husband', 'Husband', 'Husband', 'Not-in-family'],\n",
    "    'gender': ['Male', 'Male', 'Male', 'Male', 'Male'],\n",
    "    'capital-gain': [0, 0, 0, 7688, 0],\n",
    "    'capital-loss': [0, 0, 0, 0, 0],\n",
    "    'hours-per-week': [40, 50, 40, 40, 30],\n",
    "    'native-country': ['United-States', 'United-States', 'United-States', 'United-States', 'United-States'],\n",
    "})"
   ]
  },
  {
   "cell_type": "code",
   "execution_count": 53,
   "metadata": {},
   "outputs": [
    {
     "data": {
      "text/html": [
       "<div>\n",
       "<style scoped>\n",
       "    .dataframe tbody tr th:only-of-type {\n",
       "        vertical-align: middle;\n",
       "    }\n",
       "\n",
       "    .dataframe tbody tr th {\n",
       "        vertical-align: top;\n",
       "    }\n",
       "\n",
       "    .dataframe thead th {\n",
       "        text-align: right;\n",
       "    }\n",
       "</style>\n",
       "<table border=\"1\" class=\"dataframe\">\n",
       "  <thead>\n",
       "    <tr style=\"text-align: right;\">\n",
       "      <th></th>\n",
       "      <th>income-pred</th>\n",
       "    </tr>\n",
       "  </thead>\n",
       "  <tbody>\n",
       "    <tr>\n",
       "      <th>0</th>\n",
       "      <td>0</td>\n",
       "    </tr>\n",
       "    <tr>\n",
       "      <th>1</th>\n",
       "      <td>0</td>\n",
       "    </tr>\n",
       "    <tr>\n",
       "      <th>2</th>\n",
       "      <td>0</td>\n",
       "    </tr>\n",
       "    <tr>\n",
       "      <th>3</th>\n",
       "      <td>1</td>\n",
       "    </tr>\n",
       "    <tr>\n",
       "      <th>4</th>\n",
       "      <td>0</td>\n",
       "    </tr>\n",
       "  </tbody>\n",
       "</table>\n",
       "</div>"
      ],
      "text/plain": [
       "   income-pred\n",
       "0            0\n",
       "1            0\n",
       "2            0\n",
       "3            1\n",
       "4            0"
      ]
     },
     "execution_count": 53,
     "metadata": {},
     "output_type": "execute_result"
    }
   ],
   "source": [
    "y_pred_inf_ada = ada_gridsearchCV.predict(data_new)\n",
    "y_pred_inf_ada_fin = pd.DataFrame(y_pred_inf_ada, columns=['income-pred'])\n",
    "y_pred_inf_ada_fin "
   ]
  },
  {
   "cell_type": "markdown",
   "metadata": {},
   "source": [
    "# Kesimpulan"
   ]
  },
  {
   "cell_type": "markdown",
   "metadata": {},
   "source": [
    "## Conceptual Problems"
   ]
  },
  {
   "cell_type": "markdown",
   "metadata": {},
   "source": [
    "1. Bagging merupakan singkatan dari Bootstrap aggregating, bagging sendiri sangat berguna untuk membantu meningkatkan accuracy dan mengurangi overfitting ketika kita menghadapi model yang memiliki high variance oleh karena kegunaan tersebut bagging bisa ada. Cara kerja bagging beberapa subset random dari dataset train diambil  dengan penggantian. setiap subset ini berisi sampel yang sudah muncul beberapa kali atau bahkan belum pernah muncul, shingga menciptakan variasi dalam model train dan dapat mengurangi resiko overfitting, setelah model tersebut dilatih secara independen pada subset tersebut, model diminta membuat prediksi terhadap data yang belum pernah muncul sebelum nya, lalu dipilih berdasarkan voting paling banyak. Bagging menggunakan metode OOB untuk mengevaluasi kinerja model pada sampel yang tidak digunakan selama pelatihan. Sehingga bagging menjadi jawaban untuk mengatasi overfitting serta meningkatkan akurasi model\n",
    "\n",
    "\n",
    "2. Random Forest dan AdaBoost adalah dua pendekatan ensemble learning yang berbeda untuk membuat prediksi model. Random Forest menggunakan teknik bootstrap sampling untuk membuat beberapa decision trees yang bekerja secara independen, dengan setiap pohon dibangun pada subset unik dari dataset pelatihan. Pada setiap iterasi, model ini memberi bobot berbeda pada sejumlah kecil fitur, meningkatkan keberagaman prediksi. Prediksi akhir dibuat dengan mayoritas voting dari semua pohon. Sementara itu, AdaBoost memberi bobot pada setiap sampel dalam dataset berdasarkan kinerja model sebelumnya, memberi penekanan pada sampel yang sulit diprediksi. Weak learners digunakan secara berurutan, dan bobot kesalahan diperhitungkan untuk meningkatkan akurasi pada setiap iterasi. Prediksi akhir dihasilkan dari gabungan prediksi-prediksi weak learners. Dengan demikian, meskipun keduanya adalah metode ensemble, Random Forest dan AdaBoost memiliki pendekatan yang unik dalam meningkatkan kinerja model prediktif.\n",
    "\n",
    "\n",
    "3. Cross-validation adalah suatu teknik dalam machine learning yang digunakan untuk mengevaluasi kinerja model secara objektif. Dalam cross-validation, dataset dibagi menjadi beberapa subset atau folds. Proses pelatihan dan evaluasi dilakukan secara berulang menggunakan folds yang telah di tentukan . Pada setiap iterasi, satu folds digunakan sebagai dataset pengujian, sedangkan folds lainnya digunakan sebagai dataset pelatihan. Proses ini diulangi sejumlah folds yang telah ditentukan sebelumnya."
   ]
  },
  {
   "cell_type": "markdown",
   "metadata": {},
   "source": [
    "## Kesimpulan Model"
   ]
  },
  {
   "cell_type": "markdown",
   "metadata": {},
   "source": [
    "Model ini menggunakan Ada Boost sebagai algoritmanya dan MinMax Scaler sebagai scaler nya dan di dapatkan hasil recall train dan test sebesar 61%, mengapa recall menjadi parameter yang digunakan karena hal yang ingin di cegah adalah orang dengan actual gaji di bawah atau samadengan 50k tetapi di prediksi diatas 50k hal itu akan merugikan perusahaan, karena slot yang harus nya diisi oleh orang yang berpotensi digaji diatas 50k terkalahkan dengan orang yang memiliki nilai actual gaji dibawah atau samadengan 50k. Adapun dalam mengambil sample, juga bisa memperhatikan umur, seperti yang telah di dalami pada EDA bahwa umur mempengaruhi work hour sehingga akan mempengaruhi income juga.\n",
    "\n",
    "bisnis insight dari model ini adalah perusahaan bisa lebih effective dalam mendapatkan pemasukan, karena perusahaan mendapatkan revenue dari presentase gaji yang didapatkan oleh recruter mereka, ketika semakin tinggi gaji yang diterima maka perusahaan akan mendapatkan untung yang lebih besar, dengan model ini perusahaan bisa memaksimalkan kesempatannya untuk benar benar memastikan orang yang dikirimnya ke mitra yang membutuhkan tenaga kerja memiliki kriteria untuk mendapatkan gaji diatas 50k.\n",
    "\n",
    "tentunya model ini memiliki kelemahan, karena akurasi recall nya hanya 61% hal itu menyebabkan model yang diberikan masih jauh dari sempurna. tetapi hal itu masih bisa di kembangkan lagi dengan beberapa poin:\n",
    "    1. Pembuat model selanjutnya bisa melakukan encoding sesuai dengan setiap keterangan kolom\n",
    "    2. Mencoba semua jenis scaling untuk membandingkan masing masing score yang dihasilkan\n",
    "    3. Handling Outlier, data yang akan di olah harus benar benar dipastikan bersih dari outlier atau outlier yang ada masuk akal\n",
    "    4. mencoba seluruh hyperparameter yang belum dilakukan karena keterbatasan waktu\n",
    "    5. mengolah data bersama ahli lapangan yang mengetahui seluk beluk pengambilan data, dan fungsinya terhadap pemodelan"
   ]
  }
 ],
 "metadata": {
  "kernelspec": {
   "display_name": "Python 3",
   "language": "python",
   "name": "python3"
  },
  "language_info": {
   "codemirror_mode": {
    "name": "ipython",
    "version": 3
   },
   "file_extension": ".py",
   "mimetype": "text/x-python",
   "name": "python",
   "nbconvert_exporter": "python",
   "pygments_lexer": "ipython3",
   "version": "3.9.17"
  }
 },
 "nbformat": 4,
 "nbformat_minor": 2
}
